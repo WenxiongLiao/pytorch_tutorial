{
 "cells": [
  {
   "cell_type": "code",
   "execution_count": 1,
   "metadata": {},
   "outputs": [],
   "source": [
    "import torch as t"
   ]
  },
  {
   "cell_type": "markdown",
   "metadata": {},
   "source": [
    "#### Tensor"
   ]
  },
  {
   "cell_type": "code",
   "execution_count": 2,
   "metadata": {},
   "outputs": [
    {
     "name": "stdout",
     "output_type": "stream",
     "text": [
      "tensor([[0.0000e+00, 0.0000e+00, 1.8788e+31, 1.7220e+22, 1.5471e-04],\n",
      "        [1.0532e+21, 1.0244e-11, 1.0571e+21, 8.1345e+20, 2.1177e-07],\n",
      "        [1.6502e-07, 1.3120e-08, 2.7450e-06, 3.1369e+27, 7.0800e+31],\n",
      "        [3.1095e-18, 1.8590e+34, 7.7767e+31, 1.8056e+28, 3.3130e-18],\n",
      "        [1.9421e+31, 2.7491e+20, 6.1949e-04, 8.8916e-10, 1.0314e-08]])\n",
      "torch.Size([5, 5])\n"
     ]
    }
   ],
   "source": [
    "a = t.Tensor(5,5)\n",
    "print(a)\n",
    "print(a.shape)"
   ]
  },
  {
   "cell_type": "code",
   "execution_count": 3,
   "metadata": {},
   "outputs": [
    {
     "name": "stdout",
     "output_type": "stream",
     "text": [
      "tensor([[0., 0., 0.,  ..., 0., 0., 0.],\n",
      "        [0., 0., 0.,  ..., 0., 0., 0.],\n",
      "        [0., 0., 0.,  ..., 0., 0., 0.],\n",
      "        ...,\n",
      "        [0., 0., 0.,  ..., 0., 0., 0.],\n",
      "        [0., 0., 0.,  ..., 0., 0., 0.],\n",
      "        [0., 0., 0.,  ..., 0., 0., 0.]])\n"
     ]
    }
   ],
   "source": [
    "c = t.Tensor(10000,10000)\n",
    "print(c)"
   ]
  },
  {
   "cell_type": "code",
   "execution_count": 4,
   "metadata": {},
   "outputs": [
    {
     "name": "stdout",
     "output_type": "stream",
     "text": [
      "tensor([[0.1496, 0.7927, 0.8189],\n",
      "        [0.6862, 0.9032, 0.4650],\n",
      "        [0.6812, 0.0977, 0.3031],\n",
      "        [0.4871, 0.3877, 0.4988],\n",
      "        [0.3585, 0.6131, 0.6071]])\n",
      "torch.Size([5, 3])\n"
     ]
    }
   ],
   "source": [
    "#构建一个随机初始化的tensor\n",
    "x = t.rand(5,3)\n",
    "print(x)\n",
    "print(x.shape)"
   ]
  },
  {
   "cell_type": "code",
   "execution_count": 5,
   "metadata": {},
   "outputs": [
    {
     "name": "stdout",
     "output_type": "stream",
     "text": [
      "tensor([[0.8600, 0.4431, 0.4064],\n",
      "        [0.3098, 0.1482, 0.2548],\n",
      "        [0.1918, 0.8892, 0.2462],\n",
      "        [0.6830, 0.7861, 0.7376],\n",
      "        [0.7678, 0.3821, 0.6258]])\n",
      "torch.Size([5, 3])\n"
     ]
    }
   ],
   "source": [
    "y = t.rand(5,3)\n",
    "print(y)\n",
    "print(y.shape)"
   ]
  },
  {
   "cell_type": "markdown",
   "metadata": {},
   "source": [
    "#### tensor加法"
   ]
  },
  {
   "cell_type": "code",
   "execution_count": 6,
   "metadata": {},
   "outputs": [
    {
     "data": {
      "text/plain": [
       "tensor([[1.0097, 1.2359, 1.2253],\n",
       "        [0.9960, 1.0514, 0.7198],\n",
       "        [0.8729, 0.9869, 0.5493],\n",
       "        [1.1701, 1.1738, 1.2364],\n",
       "        [1.1263, 0.9952, 1.2329]])"
      ]
     },
     "execution_count": 6,
     "metadata": {},
     "output_type": "execute_result"
    }
   ],
   "source": [
    "#加法1\n",
    "x + y"
   ]
  },
  {
   "cell_type": "code",
   "execution_count": 7,
   "metadata": {},
   "outputs": [
    {
     "data": {
      "text/plain": [
       "tensor([[1.0097, 1.2359, 1.2253],\n",
       "        [0.9960, 1.0514, 0.7198],\n",
       "        [0.8729, 0.9869, 0.5493],\n",
       "        [1.1701, 1.1738, 1.2364],\n",
       "        [1.1263, 0.9952, 1.2329]])"
      ]
     },
     "execution_count": 7,
     "metadata": {},
     "output_type": "execute_result"
    }
   ],
   "source": [
    "#加法2\n",
    "t.add(x,y)"
   ]
  },
  {
   "cell_type": "code",
   "execution_count": 8,
   "metadata": {},
   "outputs": [
    {
     "name": "stdout",
     "output_type": "stream",
     "text": [
      "tensor([[1.0097, 1.2359, 1.2253],\n",
      "        [0.9960, 1.0514, 0.7198],\n",
      "        [0.8729, 0.9869, 0.5493],\n",
      "        [1.1701, 1.1738, 1.2364],\n",
      "        [1.1263, 0.9952, 1.2329]])\n"
     ]
    }
   ],
   "source": [
    "#加法3，指定结果的输出目标为resut\n",
    "result = t.Tensor(5,3)\n",
    "t.add(x,y,out = result)\n",
    "print(result)"
   ]
  },
  {
   "cell_type": "markdown",
   "metadata": {},
   "source": [
    "#### 结果保存"
   ]
  },
  {
   "cell_type": "code",
   "execution_count": 9,
   "metadata": {},
   "outputs": [
    {
     "name": "stdout",
     "output_type": "stream",
     "text": [
      "最初的y:\n",
      "tensor([[0.8600, 0.4431, 0.4064],\n",
      "        [0.3098, 0.1482, 0.2548],\n",
      "        [0.1918, 0.8892, 0.2462],\n",
      "        [0.6830, 0.7861, 0.7376],\n",
      "        [0.7678, 0.3821, 0.6258]])\n",
      "加法后的y:\n",
      "tensor([[0.8600, 0.4431, 0.4064],\n",
      "        [0.3098, 0.1482, 0.2548],\n",
      "        [0.1918, 0.8892, 0.2462],\n",
      "        [0.6830, 0.7861, 0.7376],\n",
      "        [0.7678, 0.3821, 0.6258]])\n"
     ]
    }
   ],
   "source": [
    "#不改变值\n",
    "print('最初的y:')\n",
    "print(y)\n",
    "y.add(x)\n",
    "print('加法后的y:')\n",
    "print(y)"
   ]
  },
  {
   "cell_type": "code",
   "execution_count": 10,
   "metadata": {},
   "outputs": [
    {
     "name": "stdout",
     "output_type": "stream",
     "text": [
      "最初的y:\n",
      "tensor([[0.8600, 0.4431, 0.4064],\n",
      "        [0.3098, 0.1482, 0.2548],\n",
      "        [0.1918, 0.8892, 0.2462],\n",
      "        [0.6830, 0.7861, 0.7376],\n",
      "        [0.7678, 0.3821, 0.6258]])\n",
      "加法后的y:\n",
      "tensor([[1.0097, 1.2359, 1.2253],\n",
      "        [0.9960, 1.0514, 0.7198],\n",
      "        [0.8729, 0.9869, 0.5493],\n",
      "        [1.1701, 1.1738, 1.2364],\n",
      "        [1.1263, 0.9952, 1.2329]])\n"
     ]
    }
   ],
   "source": [
    "#加了_后改变值\n",
    "print('最初的y:')\n",
    "print(y)\n",
    "y.add_(x)\n",
    "print('加法后的y:')\n",
    "print(y)"
   ]
  },
  {
   "cell_type": "markdown",
   "metadata": {},
   "source": [
    "#### tensor  与   numpy"
   ]
  },
  {
   "cell_type": "code",
   "execution_count": 11,
   "metadata": {},
   "outputs": [
    {
     "name": "stdout",
     "output_type": "stream",
     "text": [
      "tensor([1., 1., 1., 1., 1.])\n",
      "[1. 1. 1. 1. 1.]\n"
     ]
    }
   ],
   "source": [
    "# tensor  >>>  numpy\n",
    "a = t.ones(5)\n",
    "print(a)\n",
    "b = a.numpy()\n",
    "print(b)"
   ]
  },
  {
   "cell_type": "code",
   "execution_count": 12,
   "metadata": {},
   "outputs": [
    {
     "name": "stdout",
     "output_type": "stream",
     "text": [
      "tensor([1., 1., 1., 1., 1.])\n"
     ]
    }
   ],
   "source": [
    "# numpy  >>>  tensor\n",
    "c = t.from_numpy(b)\n",
    "print(c)\n"
   ]
  }
 ],
 "metadata": {
  "kernelspec": {
   "display_name": "Python 3",
   "language": "python",
   "name": "python3"
  },
  "language_info": {
   "codemirror_mode": {
    "name": "ipython",
    "version": 3
   },
   "file_extension": ".py",
   "mimetype": "text/x-python",
   "name": "python",
   "nbconvert_exporter": "python",
   "pygments_lexer": "ipython3",
   "version": "3.7.3"
  }
 },
 "nbformat": 4,
 "nbformat_minor": 2
}
