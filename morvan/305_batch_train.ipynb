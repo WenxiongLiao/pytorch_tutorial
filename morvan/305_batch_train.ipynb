{
 "cells": [
  {
   "cell_type": "code",
   "execution_count": 1,
   "metadata": {
    "collapsed": true
   },
   "outputs": [],
   "source": [
    "import torch\n",
    "import torch.utils.data as Data\n"
   ]
  },
  {
   "cell_type": "code",
   "execution_count": 12,
   "metadata": {
    "collapsed": true
   },
   "outputs": [],
   "source": [
    "BATCG_SIZE = 6\n"
   ]
  },
  {
   "cell_type": "code",
   "execution_count": 13,
   "metadata": {
    "collapsed": false
   },
   "outputs": [
    {
     "name": "stdout",
     "output_type": "stream",
     "text": [
      "tensor([1., 2., 3., 4., 5., 6.]) tensor([10.,  9.,  8.,  7.,  6.,  5.])\n",
      "tensor([ 7.,  8.,  9., 10.]) tensor([4., 3., 2., 1.])\n",
      "tensor([1., 2., 3., 4., 5., 6.]) tensor([10.,  9.,  8.,  7.,  6.,  5.])\n",
      "tensor([ 7.,  8.,  9., 10.]) tensor([4., 3., 2., 1.])\n",
      "tensor([1., 2., 3., 4., 5., 6.]) tensor([10.,  9.,  8.,  7.,  6.,  5.])\n",
      "tensor([ 7.,  8.,  9., 10.]) tensor([4., 3., 2., 1.])\n"
     ]
    }
   ],
   "source": [
    "x = torch.linspace(1,10,10)\n",
    "y = torch.linspace(10,1,10)\n",
    "\n",
    "torch_dataset = Data.TensorDataset(x, y)\n",
    "\n",
    "loader = Data.DataLoader(\n",
    "    dataset = torch_dataset,\n",
    "    batch_size = BATCG_SIZE,\n",
    "    shuffle=False,\n",
    "    num_workers = 2\n",
    ")\n",
    "\n",
    "for epoch in range(3):\n",
    "    for step,(batch_x,batch_y) in enumerate(loader):\n",
    "        print(batch_x,batch_y)\n"
   ]
  }
 ],
 "metadata": {
  "kernelspec": {
   "display_name": "Python [default]",
   "language": "python",
   "name": "python3"
  },
  "language_info": {
   "codemirror_mode": {
    "name": "ipython",
    "version": 3
   },
   "file_extension": ".py",
   "mimetype": "text/x-python",
   "name": "python",
   "nbconvert_exporter": "python",
   "pygments_lexer": "ipython3",
   "version": "3.5.2"
  }
 },
 "nbformat": 4,
 "nbformat_minor": 2
}
