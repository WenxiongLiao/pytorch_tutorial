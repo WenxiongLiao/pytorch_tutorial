{
 "cells": [
  {
   "cell_type": "code",
   "execution_count": 1,
   "metadata": {
    "collapsed": true
   },
   "outputs": [],
   "source": [
    "import pandas as pd\n",
    "import numpy as np\n",
    "import torch\n",
    "import time\n",
    "import random\n",
    "import os"
   ]
  },
  {
   "cell_type": "markdown",
   "metadata": {},
   "source": [
    "## 查看数据集分布"
   ]
  },
  {
   "cell_type": "code",
   "execution_count": 2,
   "metadata": {
    "collapsed": false
   },
   "outputs": [
    {
     "data": {
      "text/html": [
       "<div>\n",
       "<table border=\"1\" class=\"dataframe\">\n",
       "  <thead>\n",
       "    <tr style=\"text-align: right;\">\n",
       "      <th></th>\n",
       "      <th>id</th>\n",
       "      <th>comment_text</th>\n",
       "      <th>toxic</th>\n",
       "    </tr>\n",
       "  </thead>\n",
       "  <tbody>\n",
       "    <tr>\n",
       "      <th>0</th>\n",
       "      <td>0000997932d777bf</td>\n",
       "      <td>Explanation\\nWhy the edits made under my usern...</td>\n",
       "      <td>0</td>\n",
       "    </tr>\n",
       "    <tr>\n",
       "      <th>1</th>\n",
       "      <td>000103f0d9cfb60f</td>\n",
       "      <td>D'aww! He matches this background colour I'm s...</td>\n",
       "      <td>0</td>\n",
       "    </tr>\n",
       "  </tbody>\n",
       "</table>\n",
       "</div>"
      ],
      "text/plain": [
       "                 id                                       comment_text  toxic\n",
       "0  0000997932d777bf  Explanation\\nWhy the edits made under my usern...      0\n",
       "1  000103f0d9cfb60f  D'aww! He matches this background colour I'm s...      0"
      ]
     },
     "execution_count": 2,
     "metadata": {},
     "output_type": "execute_result"
    }
   ],
   "source": [
    "pd.read_csv(\"data/train_one_label.csv\").head(2)"
   ]
  },
  {
   "cell_type": "code",
   "execution_count": 3,
   "metadata": {
    "collapsed": false
   },
   "outputs": [
    {
     "data": {
      "text/html": [
       "<div>\n",
       "<table border=\"1\" class=\"dataframe\">\n",
       "  <thead>\n",
       "    <tr style=\"text-align: right;\">\n",
       "      <th></th>\n",
       "      <th>id</th>\n",
       "      <th>comment_text</th>\n",
       "    </tr>\n",
       "  </thead>\n",
       "  <tbody>\n",
       "    <tr>\n",
       "      <th>0</th>\n",
       "      <td>00001cee341fdb12</td>\n",
       "      <td>Yo bitch Ja Rule is more succesful then you'll...</td>\n",
       "    </tr>\n",
       "    <tr>\n",
       "      <th>1</th>\n",
       "      <td>0000247867823ef7</td>\n",
       "      <td>== From RfC == \\n\\n The title is fine as it is...</td>\n",
       "    </tr>\n",
       "  </tbody>\n",
       "</table>\n",
       "</div>"
      ],
      "text/plain": [
       "                 id                                       comment_text\n",
       "0  00001cee341fdb12  Yo bitch Ja Rule is more succesful then you'll...\n",
       "1  0000247867823ef7  == From RfC == \\n\\n The title is fine as it is..."
      ]
     },
     "execution_count": 3,
     "metadata": {},
     "output_type": "execute_result"
    }
   ],
   "source": [
    "pd.read_csv(\"data/test.csv\").head(2)"
   ]
  },
  {
   "cell_type": "markdown",
   "metadata": {},
   "source": [
    "## 使用torchtext构建数据集"
   ]
  },
  {
   "cell_type": "code",
   "execution_count": 4,
   "metadata": {
    "collapsed": true
   },
   "outputs": [],
   "source": [
    "from torchtext import data\n",
    "from torchtext.vocab import Vectors\n",
    "from torch.nn import init\n",
    "from tqdm import tqdm"
   ]
  },
  {
   "cell_type": "code",
   "execution_count": 5,
   "metadata": {
    "collapsed": true
   },
   "outputs": [],
   "source": [
    "tokenize = lambda x: x.split()\n",
    "TEXT = data.Field(sequential=True, tokenize=tokenize, lower=True, fix_length=200)\n",
    "LABEL = data.Field(sequential=False, use_vocab=False)\n"
   ]
  },
  {
   "cell_type": "markdown",
   "metadata": {},
   "source": [
    "    # 若不想自定义继承自Dataset的类MyDataset，也可直接使用torchtext.data.Dataset来构建数据集\n",
    "    # 完整示例如下\n",
    "    def get_dataset(csv_data, text_field, label_field, test=False):\n",
    "\n",
    "        fields = [(\"id\", None), # we won't be needing the id, so we pass in None as the field\n",
    "                     (\"comment_text\", text_field), (\"toxic\", label_field)]       \n",
    "        examples = []\n",
    "\n",
    "        if test:\n",
    "            # 如果为测试集，则不加载label\n",
    "            for text in tqdm(csv_data['comment_text']):\n",
    "                examples.append(data.Example.fromlist([None, text, None], fields))\n",
    "        else:\n",
    "            for text, label in tqdm(zip(csv_data['comment_text'], csv_data['toxic'])):\n",
    "                examples.append(data.Example.fromlist([None, text, label], fields))\n",
    "        return examples, fields\n",
    "\n",
    "    train_data = pd.read_csv('data/train_one_label.csv')\n",
    "    valid_data = pd.read_csv('data/valid_one_label.csv')\n",
    "    test_data = pd.read_csv(\"data/test.csv\")\n",
    "    TEXT = data.Field(sequential=True, tokenize=tokenize, lower=True)\n",
    "    LABEL = data.Field(sequential=False, use_vocab=False)\n",
    "\n",
    "    # 得到构建Dataset所需的examples和fields\n",
    "    train_examples, train_fields = get_dataset(train_data, TEXT, LABEL)\n",
    "    valid_examples, valid_fields = get_dataset(valid_data, TEXT, LABEL)\n",
    "    test_examples, test_fields = get_dataset(test_data, TEXT, None, test=True)\n",
    "    # 构建Dataset数据集\n",
    "    train = data.Dataset(train_examples, train_fields)\n",
    "    valid = data.Dataset(valid_examples, valid_fields)\n",
    "    test = data.Dataset(test_examples, test_fields)"
   ]
  },
  {
   "cell_type": "markdown",
   "metadata": {},
   "source": [
    "### 自定义Dataset类"
   ]
  },
  {
   "cell_type": "code",
   "execution_count": 7,
   "metadata": {
    "collapsed": false
   },
   "outputs": [
    {
     "ename": "OverflowError",
     "evalue": "Python int too large to convert to C long",
     "output_type": "error",
     "traceback": [
      "\u001b[0;31m---------------------------------------------------------------------------\u001b[0m",
      "\u001b[0;31mOverflowError\u001b[0m                             Traceback (most recent call last)",
      "\u001b[0;32m<ipython-input-7-fa3f720176fb>\u001b[0m in \u001b[0;36m<module>\u001b[0;34m()\u001b[0m\n\u001b[1;32m     13\u001b[0m                \u001b[0mformat\u001b[0m\u001b[1;33m=\u001b[0m\u001b[1;34m'csv'\u001b[0m\u001b[1;33m,\u001b[0m\u001b[1;33m\u001b[0m\u001b[0m\n\u001b[1;32m     14\u001b[0m                \u001b[0mskip_header\u001b[0m\u001b[1;33m=\u001b[0m\u001b[1;32mTrue\u001b[0m\u001b[1;33m,\u001b[0m \u001b[1;31m# 如果你的csv有表头, 确保这个表头不会作为数据处理\u001b[0m\u001b[1;33m\u001b[0m\u001b[0m\n\u001b[0;32m---> 15\u001b[0;31m                fields=tv_datafields)\n\u001b[0m\u001b[1;32m     16\u001b[0m \u001b[1;33m\u001b[0m\u001b[0m\n\u001b[1;32m     17\u001b[0m tst_datafields = [(\"id\", None), # 我们不会需要id，所以我们传入的filed是None\n",
      "\u001b[0;32mC:\\softwareinstall\\anaconda3\\lib\\site-packages\\torchtext\\data\\dataset.py\u001b[0m in \u001b[0;36msplits\u001b[0;34m(cls, path, root, train, validation, test, **kwargs)\u001b[0m\n\u001b[1;32m     76\u001b[0m             \u001b[0mpath\u001b[0m \u001b[1;33m=\u001b[0m \u001b[0mcls\u001b[0m\u001b[1;33m.\u001b[0m\u001b[0mdownload\u001b[0m\u001b[1;33m(\u001b[0m\u001b[0mroot\u001b[0m\u001b[1;33m)\u001b[0m\u001b[1;33m\u001b[0m\u001b[0m\n\u001b[1;32m     77\u001b[0m         train_data = None if train is None else cls(\n\u001b[0;32m---> 78\u001b[0;31m             os.path.join(path, train), **kwargs)\n\u001b[0m\u001b[1;32m     79\u001b[0m         val_data = None if validation is None else cls(\n\u001b[1;32m     80\u001b[0m             os.path.join(path, validation), **kwargs)\n",
      "\u001b[0;32mC:\\softwareinstall\\anaconda3\\lib\\site-packages\\torchtext\\data\\dataset.py\u001b[0m in \u001b[0;36m__init__\u001b[0;34m(self, path, format, fields, skip_header, csv_reader_params, **kwargs)\u001b[0m\n\u001b[1;32m    267\u001b[0m \u001b[1;33m\u001b[0m\u001b[0m\n\u001b[1;32m    268\u001b[0m             \u001b[1;32mif\u001b[0m \u001b[0mskip_header\u001b[0m\u001b[1;33m:\u001b[0m\u001b[1;33m\u001b[0m\u001b[0m\n\u001b[0;32m--> 269\u001b[0;31m                 \u001b[0mnext\u001b[0m\u001b[1;33m(\u001b[0m\u001b[0mreader\u001b[0m\u001b[1;33m)\u001b[0m\u001b[1;33m\u001b[0m\u001b[0m\n\u001b[0m\u001b[1;32m    270\u001b[0m \u001b[1;33m\u001b[0m\u001b[0m\n\u001b[1;32m    271\u001b[0m             \u001b[0mexamples\u001b[0m \u001b[1;33m=\u001b[0m \u001b[1;33m[\u001b[0m\u001b[0mmake_example\u001b[0m\u001b[1;33m(\u001b[0m\u001b[0mline\u001b[0m\u001b[1;33m,\u001b[0m \u001b[0mfields\u001b[0m\u001b[1;33m)\u001b[0m \u001b[1;32mfor\u001b[0m \u001b[0mline\u001b[0m \u001b[1;32min\u001b[0m \u001b[0mreader\u001b[0m\u001b[1;33m]\u001b[0m\u001b[1;33m\u001b[0m\u001b[0m\n",
      "\u001b[0;32mC:\\softwareinstall\\anaconda3\\lib\\site-packages\\torchtext\\utils.py\u001b[0m in \u001b[0;36municode_csv_reader\u001b[0;34m(unicode_csv_data, **kwargs)\u001b[0m\n\u001b[1;32m    128\u001b[0m             \u001b[0mmaxInt\u001b[0m \u001b[1;33m=\u001b[0m \u001b[0mint\u001b[0m\u001b[1;33m(\u001b[0m\u001b[0mmaxInt\u001b[0m \u001b[1;33m/\u001b[0m \u001b[1;36m10\u001b[0m\u001b[1;33m)\u001b[0m\u001b[1;33m\u001b[0m\u001b[0m\n\u001b[1;32m    129\u001b[0m \u001b[1;33m\u001b[0m\u001b[0m\n\u001b[0;32m--> 130\u001b[0;31m     \u001b[0mcsv\u001b[0m\u001b[1;33m.\u001b[0m\u001b[0mfield_size_limit\u001b[0m\u001b[1;33m(\u001b[0m\u001b[0msys\u001b[0m\u001b[1;33m.\u001b[0m\u001b[0mmaxsize\u001b[0m\u001b[1;33m)\u001b[0m\u001b[1;33m\u001b[0m\u001b[0m\n\u001b[0m\u001b[1;32m    131\u001b[0m \u001b[1;33m\u001b[0m\u001b[0m\n\u001b[1;32m    132\u001b[0m     \u001b[1;32mif\u001b[0m \u001b[0msix\u001b[0m\u001b[1;33m.\u001b[0m\u001b[0mPY2\u001b[0m\u001b[1;33m:\u001b[0m\u001b[1;33m\u001b[0m\u001b[0m\n",
      "\u001b[0;31mOverflowError\u001b[0m: Python int too large to convert to C long"
     ]
    }
   ],
   "source": [
    "train_path = 'train_one_label.csv'\n",
    "valid_path = \"valid_one_label.csv\"\n",
    "test_path = \"test.csv\"\n",
    "\n",
    "\n",
    "from torchtext.data import TabularDataset\n",
    "\n",
    "tv_datafields = [(\"id\", None), # 我们不会需要id，所以我们传入的filed是None\n",
    "                 (\"comment_text\", TEXT), (\"toxic\", LABEL)]\n",
    "trn, vld = TabularDataset.splits(\n",
    "               path=\"data\", # 数据存放的根目录\n",
    "               train=train_path, validation=valid_path,\n",
    "               format='csv',\n",
    "               skip_header=True, # 如果你的csv有表头, 确保这个表头不会作为数据处理\n",
    "               fields=tv_datafields)\n",
    "\n",
    "tst_datafields = [(\"id\", None), # 我们不会需要id，所以我们传入的filed是None\n",
    "                  (\"comment_text\", TEXT)]\n",
    "tst = TabularDataset(\n",
    "           path=test_path, # 文件路径\n",
    "           format='csv',\n",
    "           skip_header=True, # 如果你的csv有表头, 确保这个表头不会作为数据处理\n",
    "           fields=tst_datafields)\n",
    "\n",
    "\n",
    "\n"
   ]
  },
  {
   "cell_type": "markdown",
   "metadata": {},
   "source": [
    "### 构建数据集"
   ]
  },
  {
   "cell_type": "code",
   "execution_count": 7,
   "metadata": {
    "collapsed": false
   },
   "outputs": [
    {
     "name": "stdout",
     "output_type": "stream",
     "text": [
      "read data from data/train_one_label.csv\n"
     ]
    },
    {
     "name": "stderr",
     "output_type": "stream",
     "text": [
      "25it [00:00, 8361.85it/s]\n"
     ]
    },
    {
     "name": "stdout",
     "output_type": "stream",
     "text": [
      "read data from data/valid_one_label.csv\n"
     ]
    },
    {
     "name": "stderr",
     "output_type": "stream",
     "text": [
      "25it [00:00, 5012.55it/s]\n"
     ]
    },
    {
     "name": "stdout",
     "output_type": "stream",
     "text": [
      "read data from data/test.csv\n"
     ]
    },
    {
     "name": "stderr",
     "output_type": "stream",
     "text": [
      "100%|███████████████████████████████████████████████████████████████████████████████| 33/33 [00:00<00:00, 33097.09it/s]\n"
     ]
    }
   ],
   "source": [
    "train = MyDataset(train_path, text_field=TEXT, label_field=LABEL, test=False, aug=1)\n",
    "valid = MyDataset(valid_path, text_field=TEXT, label_field=LABEL, test=False, aug=1)\n",
    "# 因为test没有label,需要指定label_field为None\n",
    "test = MyDataset(test_path, text_field=TEXT, label_field=None, test=True, aug=1)"
   ]
  },
  {
   "cell_type": "code",
   "execution_count": 8,
   "metadata": {
    "collapsed": false
   },
   "outputs": [
    {
     "name": "stdout",
     "output_type": "stream",
     "text": [
      "dict_keys(['toxic', 'comment_text'])\n",
      "dict_keys(['comment_text'])\n"
     ]
    }
   ],
   "source": [
    "print(train[0].__dict__.keys())\n",
    "print(test[0].__dict__.keys())"
   ]
  },
  {
   "cell_type": "code",
   "execution_count": 9,
   "metadata": {
    "collapsed": false
   },
   "outputs": [
    {
     "name": "stdout",
     "output_type": "stream",
     "text": [
      "['explanation', 'why', 'edits', 'made', 'my', 'metallica', 'reverted?', 'they', \"weren't\", 'vandalisms,', 'some', 'after', 'i', 'voted', 'at', 'new', 'fac.', 'and', 'please', 'the', 'template', 'from', 'the', 'talk', 'since', \"i'm\", 'now.89.205.38.27']\n"
     ]
    }
   ],
   "source": [
    "print(train[0].comment_text)"
   ]
  },
  {
   "cell_type": "markdown",
   "metadata": {},
   "source": [
    "### 构建词表，最简单的方式"
   ]
  },
  {
   "cell_type": "code",
   "execution_count": 10,
   "metadata": {
    "collapsed": true
   },
   "outputs": [],
   "source": [
    "# TEXT.build_vocab(train)\n",
    "# TEXT.vocab.freqs.most_common(10)\n"
   ]
  },
  {
   "cell_type": "markdown",
   "metadata": {},
   "source": [
    "###  通过预训练的词向量来构建词表的方式示例，以glove.6B.300d词向量为例"
   ]
  },
  {
   "cell_type": "code",
   "execution_count": 11,
   "metadata": {
    "collapsed": false
   },
   "outputs": [
    {
     "data": {
      "text/plain": [
       "[('the', 58),\n",
       " ('to', 32),\n",
       " ('you', 29),\n",
       " ('of', 20),\n",
       " ('and', 19),\n",
       " ('a', 19),\n",
       " ('is', 18),\n",
       " ('i', 16),\n",
       " ('that', 14),\n",
       " ('it', 14)]"
      ]
     },
     "execution_count": 11,
     "metadata": {},
     "output_type": "execute_result"
    }
   ],
   "source": [
    "cache = 'mycache'\n",
    "if not os.path.exists(cache):\n",
    "    os.mkdir(cache)\n",
    "vectors = Vectors(name='E:\\\\语料\\word2vec\\\\glove.6B\\\\glove.6B.100d.txt', cache=cache)\n",
    "# 指定 Vector 缺失值的初始化方式，没有命中的token的初始化方式\n",
    "# vectors.unk_init = init.xavier_uniform_ \n",
    "TEXT.build_vocab(train, vectors=vectors)\n",
    "# 查看词表元素\n",
    "# TEXT.vocab.vectors\n",
    "\n",
    "TEXT.vocab.freqs.most_common(10)\n"
   ]
  },
  {
   "cell_type": "markdown",
   "metadata": {},
   "source": [
    "### 构建数据集迭代器"
   ]
  },
  {
   "cell_type": "code",
   "execution_count": 12,
   "metadata": {
    "collapsed": false
   },
   "outputs": [
    {
     "name": "stderr",
     "output_type": "stream",
     "text": [
      "The `device` argument should be set by using `torch.device` or passing a string as an argument. This behavior will be deprecated soon and currently defaults to cpu.\n",
      "The `device` argument should be set by using `torch.device` or passing a string as an argument. This behavior will be deprecated soon and currently defaults to cpu.\n",
      "The `device` argument should be set by using `torch.device` or passing a string as an argument. This behavior will be deprecated soon and currently defaults to cpu.\n"
     ]
    }
   ],
   "source": [
    "from torchtext.data import Iterator, BucketIterator\n",
    "# 若只针对训练集构造迭代器\n",
    "# train_iter = data.BucketIterator(dataset=train, batch_size=8, shuffle=True, sort_within_batch=False, repeat=False)\n",
    "\n",
    "# 同时对训练集和验证集进行迭代器的构建\n",
    "train_iter, val_iter = BucketIterator.splits(\n",
    "        (train, valid), # 构建数据集所需的数据集\n",
    "        batch_sizes=(8, 8),\n",
    "        device=-1, # 如果使用gpu，此处将-1更换为GPU的编号\n",
    "        sort_key=lambda x: len(x.comment_text), # the BucketIterator needs to be told what function it should use to group the data.\n",
    "        sort_within_batch=False,\n",
    "        repeat=False # we pass repeat=False because we want to wrap this Iterator layer.\n",
    ")\n",
    "\n",
    "test_iter = Iterator(test, batch_size=8, device=-1, sort=False, sort_within_batch=False, repeat=False)"
   ]
  },
  {
   "cell_type": "code",
   "execution_count": 13,
   "metadata": {
    "collapsed": false
   },
   "outputs": [
    {
     "name": "stdout",
     "output_type": "stream",
     "text": [
      "\n",
      "[torchtext.data.batch.Batch of size 8 from GRAND DATASET]\n",
      "\t[.comment_text]:[torch.LongTensor of size 200x8]\n",
      "\t[.toxic]:[torch.LongTensor of size 8]\n",
      "torch.Size([200, 8]) torch.Size([8])\n",
      "\n",
      "[torchtext.data.batch.Batch of size 8 from GRAND DATASET]\n",
      "\t[.comment_text]:[torch.LongTensor of size 200x8]\n",
      "\t[.toxic]:[torch.LongTensor of size 8]\n",
      "torch.Size([200, 8]) torch.Size([8])\n",
      "\n",
      "[torchtext.data.batch.Batch of size 8 from GRAND DATASET]\n",
      "\t[.comment_text]:[torch.LongTensor of size 200x8]\n",
      "\t[.toxic]:[torch.LongTensor of size 8]\n",
      "torch.Size([200, 8]) torch.Size([8])\n",
      "\n",
      "[torchtext.data.batch.Batch of size 1 from GRAND DATASET]\n",
      "\t[.comment_text]:[torch.LongTensor of size 200x1]\n",
      "\t[.toxic]:[torch.LongTensor of size 1]\n",
      "torch.Size([200, 1]) torch.Size([1])\n"
     ]
    }
   ],
   "source": [
    "for idx, batch in enumerate(train_iter):\n",
    "    print(batch)\n",
    "    text, label = batch.comment_text, batch.toxic\n",
    "    print(text.shape, label.shape)"
   ]
  },
  {
   "cell_type": "markdown",
   "metadata": {},
   "source": [
    "# 使用torchtext构建的数据集实现LSTM\n",
    "- 因数据集太小，无法收敛，只作为demo熟悉torchtext和pytorch之间的用法"
   ]
  },
  {
   "cell_type": "code",
   "execution_count": 14,
   "metadata": {
    "collapsed": true
   },
   "outputs": [],
   "source": [
    "import torch.nn as nn\n",
    "import torch.nn.functional as F\n",
    "import torch.optim as optim"
   ]
  },
  {
   "cell_type": "code",
   "execution_count": 15,
   "metadata": {
    "collapsed": true
   },
   "outputs": [],
   "source": [
    "weight_matrix = TEXT.vocab.vectors"
   ]
  },
  {
   "cell_type": "code",
   "execution_count": 16,
   "metadata": {
    "collapsed": true
   },
   "outputs": [],
   "source": [
    "class LSTM(nn.Module):\n",
    "\n",
    "    def __init__(self):\n",
    "        super(LSTM, self).__init__()\n",
    "        self.word_embeddings = nn.Embedding(len(TEXT.vocab), 300)  # embedding之后的shape: torch.Size([200, 8, 300])\n",
    "        # 若使用预训练的词向量，需在此处指定预训练的权重\n",
    "        # embedding.weight.data.copy_(weight_matrix)\n",
    "        self.lstm = nn.LSTM(input_size=300, hidden_size=128, num_layers=1)  # torch.Size([200, 8, 128])\n",
    "        self.decoder = nn.Linear(128, 2)\n",
    "\n",
    "    def forward(self, sentence):\n",
    "        embeds = self.word_embeddings(sentence)\n",
    "        lstm_out = self.lstm(embeds)[0]  # lstm_out:200x8x128\n",
    "        # 取最后一个时间步\n",
    "        final = lstm_out[-1]  # 8*128\n",
    "        y = self.decoder(final)  # 8*2 \n",
    "        return y\n"
   ]
  },
  {
   "cell_type": "code",
   "execution_count": 17,
   "metadata": {
    "collapsed": true
   },
   "outputs": [],
   "source": [
    "model = LSTM()\n",
    "model.train()\n",
    "optimizer = optim.Adam(filter(lambda p: p.requires_grad, model.parameters()), lr=0.01)\n",
    "loss_funtion = F.cross_entropy"
   ]
  },
  {
   "cell_type": "code",
   "execution_count": 18,
   "metadata": {
    "collapsed": false
   },
   "outputs": [
    {
     "name": "stdout",
     "output_type": "stream",
     "text": [
      "tensor(0.7587, grad_fn=<NllLossBackward>)\n",
      "tensor(0.0217, grad_fn=<NllLossBackward>)\n",
      "tensor(0.0056, grad_fn=<NllLossBackward>)\n",
      "tensor(0.0021, grad_fn=<NllLossBackward>)\n"
     ]
    }
   ],
   "source": [
    "for epoch, batch in enumerate(train_iter):\n",
    "    optimizer.zero_grad()\n",
    "    predicted = model(batch.comment_text)\n",
    "\n",
    "    loss = loss_funtion(predicted, batch.toxic)\n",
    "    loss.backward()\n",
    "    optimizer.step()\n",
    "    print(loss)"
   ]
  },
  {
   "cell_type": "code",
   "execution_count": null,
   "metadata": {
    "collapsed": true
   },
   "outputs": [],
   "source": []
  },
  {
   "cell_type": "code",
   "execution_count": null,
   "metadata": {
    "collapsed": true
   },
   "outputs": [],
   "source": []
  }
 ],
 "metadata": {
  "kernelspec": {
   "display_name": "Python [conda root]",
   "language": "python",
   "name": "conda-root-py"
  },
  "language_info": {
   "codemirror_mode": {
    "name": "ipython",
    "version": 3
   },
   "file_extension": ".py",
   "mimetype": "text/x-python",
   "name": "python",
   "nbconvert_exporter": "python",
   "pygments_lexer": "ipython3",
   "version": "3.5.2"
  }
 },
 "nbformat": 4,
 "nbformat_minor": 2
}
