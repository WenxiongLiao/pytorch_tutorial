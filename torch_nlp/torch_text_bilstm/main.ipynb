{
 "cells": [
  {
   "cell_type": "code",
   "execution_count": 1,
   "metadata": {
    "collapsed": true
   },
   "outputs": [],
   "source": [
    "import pandas as pd\n",
    "import numpy as np\n",
    "import torch\n",
    "\n",
    "\n",
    "#loading the data\n",
    "pd.read_csv('data/train.csv').head()\n",
    "\n",
    "from torchtext.data import Field\n"
   ]
  },
  {
   "cell_type": "code",
   "execution_count": 2,
   "metadata": {
    "collapsed": false
   },
   "outputs": [],
   "source": [
    "import sys\n",
    "import csv\n",
    "maxInt = sys.maxsize\n",
    "decrement =True\n",
    "while decrement:\n",
    "    decrement =False\n",
    "    try:\n",
    "        csv.field_size_limit(maxInt)\n",
    "        sys.maxsize = maxInt\n",
    "    except OverflowError:\n",
    "        maxInt = int(maxInt/10)\n",
    "        decrement =True\n"
   ]
  },
  {
   "cell_type": "code",
   "execution_count": 3,
   "metadata": {
    "collapsed": false
   },
   "outputs": [
    {
     "name": "stdout",
     "output_type": "stream",
     "text": [
      "size of the train, dev, test dataset: 25 25 33\n"
     ]
    }
   ],
   "source": [
    "tokenize = lambda x: x.split()\n",
    "#lowercased, whitespace-tokenized, and preprocessed\n",
    "TEXT = Field(sequential=True, tokenize=tokenize, lower=True)\n",
    "#labels is numeric already\n",
    "LABEL = Field(sequential=False, use_vocab=False)\n",
    "\n",
    "# csv.field_size_limit(sys.maxsize)\n",
    "# csv.field_size_limit(500 * 1024 * 1024)\n",
    "\n",
    "from torchtext.data import TabularDataset\n",
    "trvld_datafields = [(\"id\", None),\n",
    "                (\"comment_text\", TEXT), (\"toxic\", LABEL),\n",
    "                (\"severe_toxic\", LABEL), (\"threat\", LABEL),\n",
    "                (\"obscene\", LABEL), (\"insult\", LABEL),\n",
    "                (\"identity_hate\", LABEL)]\n",
    "\n",
    "trn, vld = TabularDataset.splits(\n",
    "            path=\"data\",\n",
    "            train=\"train.csv\", validation=\"valid.csv\",\n",
    "            format=\"csv\", skip_header=True,\n",
    "            fields=trvld_datafields)\n",
    "\n",
    "tst_datafields = [(\"id\", None), (\"comment_text\", TEXT)]\n",
    "tst = TabularDataset(\n",
    "        path=\"data/test.csv\", format=\"csv\", skip_header=True, fields=tst_datafields)\n",
    "\n",
    "print ('size of the train, dev, test dataset:', len(trn), len(vld), len(tst))\n",
    "#print (trn.fields.items())\n",
    "#print (trn[0].comment_text)\n",
    "#print (tst[0].comment_text) \n"
   ]
  },
  {
   "cell_type": "code",
   "execution_count": 4,
   "metadata": {
    "collapsed": false
   },
   "outputs": [
    {
     "name": "stderr",
     "output_type": "stream",
     "text": [
      "  0%|                                                                                       | 0/400001 [00:00<?, ?it/s]Skipping token b'391842' with 1-dimensional vector [b'100']; likely a header\n",
      "100%|██████████████████████████████████████████████████████████████████████▉| 399977/400001 [00:24<00:00, 16225.53it/s]"
     ]
    },
    {
     "name": "stdout",
     "output_type": "stream",
     "text": [
      "size of the vocab and embedding dim: torch.Size([202, 100])\n",
      "index of the in the vocab: 2\n",
      "index 0 in the vocab: <unk>\n",
      "number of batch (size: 3): 9 9\n",
      "details of batch: \n",
      "[torchtext.data.batch.Batch of size 1]\n",
      "\t[.toxic]:[torch.cuda.LongTensor of size 1 (GPU 0)]\n",
      "\t[.severe_toxic]:[torch.cuda.LongTensor of size 1 (GPU 0)]\n",
      "\t[.insult]:[torch.cuda.LongTensor of size 1 (GPU 0)]\n",
      "\t[.threat]:[torch.cuda.LongTensor of size 1 (GPU 0)]\n",
      "\t[.identity_hate]:[torch.cuda.LongTensor of size 1 (GPU 0)]\n",
      "\t[.obscene]:[torch.cuda.LongTensor of size 1 (GPU 0)]\n",
      "\t[.comment_text]:[torch.cuda.LongTensor of size 8x1 (GPU 0)]\n",
      "the content of 'toxic' for the first 3 examples in batch 1: tensor([1], device='cuda:0')\n"
     ]
    },
    {
     "name": "stderr",
     "output_type": "stream",
     "text": [
      "\r",
      "100%|███████████████████████████████████████████████████████████████████████▉| 399977/400001 [00:40<00:00, 9999.11it/s]"
     ]
    }
   ],
   "source": [
    "from torchtext import vocab\n",
    "vec = vocab.Vectors('E:\\\\语料\\word2vec\\\\glove.6B\\\\glove.6B.100d.txt', '.\\\\data\\\\')\n",
    "TEXT.build_vocab(trn, vld, max_size=200, vectors=vec)\n",
    "print ('size of the vocab and embedding dim:', TEXT.vocab.vectors.shape) #size=202,50 (max vocab size=200+2 for <unk> and <pad>, and glove vector dim=50)\n",
    "print ('index of the in the vocab:', TEXT.vocab.stoi['the']) #output:2, so the index 2 in vocab is for 'the'\n",
    "print ('index 0 in the vocab:', TEXT.vocab.itos[0]) #output:<unk>, so the index 0 in vocab is for '<unk>'\n",
    "#print ('embedding vector for 'the':', TEXT.vocab.vectors[TEXT.vocab.stoi['the']])\n",
    "\n",
    "#print (TEXT.vocab.freqs.most_common(10))\n",
    "#print (trn[0].__dict__.keys())\n",
    "#print (trn[0].comment_text[:5])\n",
    "\n",
    "#BucketIterator groups sequence of similar lengths text in a batch together to minimize padding! how cool is that!\n",
    "from torchtext.data import Iterator, BucketIterator\n",
    "train_iter, val_iter = BucketIterator.splits((trn, vld),\n",
    "                                            batch_sizes=(3,3),\n",
    "                                            device='cuda',\n",
    "                                            sort_key=lambda x: len(x.comment_text), #tell the bucketIterator how to group the sequences\n",
    "                                            sort_within_batch=False,\n",
    "                                            repeat=False) #we want to wrap this Iterator layer\n",
    "test_iter = Iterator(tst, batch_size=3, device='cuda', sort=False, sort_within_batch=False, repeat=False)\n",
    "\n",
    "print ('number of batch (size: 3):', len(train_iter), len(val_iter)) #output: 9,9. because our train and val data only has 25 examples. since the batch size is 3, it means we have 25/3: 9 batches for each train and val\n",
    "\n",
    "batch = next(iter(train_iter))\n",
    "print ('details of batch:', batch)\n",
    "print (\"the content of 'toxic' for the first 3 examples in batch 1:\", batch.toxic)\n",
    "#print (\"the content of 'comment_text' for the first 3 examples in batch 1, size depends on the longest sequence:\", batch.comment_text)\n",
    "#print (batch.dataset.fields)\n"
   ]
  },
  {
   "cell_type": "code",
   "execution_count": 5,
   "metadata": {
    "collapsed": true
   },
   "outputs": [],
   "source": [
    "class BatchGenerator:\n",
    "    def __init__(self, dl, x, y):\n",
    "        self.dl, self.x, self.y = dl, x, y\n",
    "    def __len__(self):\n",
    "        return len(self.dl)\n",
    "    def __iter__(self):\n",
    "        for batch in self.dl:\n",
    "            X = getattr(batch, self.x) #assuming one input\n",
    "            if self.y is not None: #concat the y into single tensor\n",
    "                y = torch.cat([getattr(batch, feat).unsqueeze(1) for feat in self.y], dim=1).float()\n",
    "            else:\n",
    "                y = torch.zeros((1))\n",
    "            yield (X,y)\n",
    "\n",
    "train_batch_it = BatchGenerator(train_iter, 'comment_text', ['toxic', 'threat'])\n",
    "#print ('get data x and y out of batch object:', next(iter(train_batch_it)))\n",
    "valid_batch_it = BatchGenerator(val_iter, 'comment_text', ['toxic', 'threat'])\n",
    "test_batch_it = BatchGenerator(test_iter, 'comment_text', None)\n",
    "#print (next(test_batch_it.__iter__()))\n"
   ]
  },
  {
   "cell_type": "code",
   "execution_count": 8,
   "metadata": {
    "collapsed": false
   },
   "outputs": [
    {
     "name": "stdout",
     "output_type": "stream",
     "text": [
      "BiLSTM(\n",
      "  (embedding): Embedding(202, 100)\n",
      "  (encoder): LSTM(100, 50, num_layers=2, dropout=0.1, bidirectional=True)\n",
      "  (linear): Linear(in_features=100, out_features=50, bias=True)\n",
      "  (predictor): Linear(in_features=50, out_features=2, bias=True)\n",
      ")\n"
     ]
    },
    {
     "name": "stderr",
     "output_type": "stream",
     "text": [
      "\n",
      "  0%|                                                                                            | 0/9 [00:00<?, ?it/s]\n",
      " 11%|█████████▎                                                                          | 1/9 [00:00<00:02,  3.52it/s]\n",
      " 56%|██████████████████████████████████████████████▋                                     | 5/9 [00:00<00:00, 12.95it/s]\n",
      " 89%|██████████████████████████████████████████████████████████████████████████▋         | 8/9 [00:00<00:00, 14.72it/s]\n",
      "100%|████████████████████████████████████████████████████████████████████████████████████| 9/9 [00:00<00:00, 15.92it/s]"
     ]
    },
    {
     "name": "stdout",
     "output_type": "stream",
     "text": [
      "Epoch: 1, Training loss: 21.6129, Validation loss: 8.9205\n"
     ]
    },
    {
     "name": "stderr",
     "output_type": "stream",
     "text": [
      "\n",
      "  0%|                                                                                            | 0/9 [00:00<?, ?it/s]\n",
      " 33%|████████████████████████████                                                        | 3/9 [00:00<00:00, 21.49it/s]\n",
      " 78%|█████████████████████████████████████████████████████████████████▎                  | 7/9 [00:00<00:00, 28.53it/s]\n",
      "100%|████████████████████████████████████████████████████████████████████████████████████| 9/9 [00:00<00:00, 29.68it/s]"
     ]
    },
    {
     "name": "stdout",
     "output_type": "stream",
     "text": [
      "Epoch: 2, Training loss: 9.7737, Validation loss: 7.7052\n"
     ]
    },
    {
     "name": "stderr",
     "output_type": "stream",
     "text": [
      "\n",
      "  0%|                                                                                            | 0/9 [00:00<?, ?it/s]\n",
      " 44%|█████████████████████████████████████▎                                              | 4/9 [00:00<00:00, 28.65it/s]\n",
      " 67%|████████████████████████████████████████████████████████                            | 6/9 [00:00<00:00, 24.86it/s]\n",
      " 89%|██████████████████████████████████████████████████████████████████████████▋         | 8/9 [00:00<00:00, 23.18it/s]\n",
      "100%|████████████████████████████████████████████████████████████████████████████████████| 9/9 [00:00<00:00, 23.81it/s]"
     ]
    },
    {
     "name": "stdout",
     "output_type": "stream",
     "text": [
      "Epoch: 3, Training loss: 9.8655, Validation loss: 8.2191\n"
     ]
    },
    {
     "name": "stderr",
     "output_type": "stream",
     "text": [
      "\n",
      "  0%|                                                                                            | 0/9 [00:00<?, ?it/s]\n",
      " 44%|█████████████████████████████████████▎                                              | 4/9 [00:00<00:00, 35.49it/s]\n",
      " 89%|██████████████████████████████████████████████████████████████████████████▋         | 8/9 [00:00<00:00, 26.56it/s]\n",
      "100%|████████████████████████████████████████████████████████████████████████████████████| 9/9 [00:00<00:00, 26.31it/s]"
     ]
    },
    {
     "name": "stdout",
     "output_type": "stream",
     "text": [
      "Epoch: 4, Training loss: 17.8768, Validation loss: 7.5321\n"
     ]
    },
    {
     "name": "stderr",
     "output_type": "stream",
     "text": [
      "\n",
      "  0%|                                                                                            | 0/9 [00:00<?, ?it/s]\n",
      " 44%|█████████████████████████████████████▎                                              | 4/9 [00:00<00:00, 35.81it/s]\n",
      "100%|████████████████████████████████████████████████████████████████████████████████████| 9/9 [00:00<00:00, 33.05it/s]\n"
     ]
    },
    {
     "name": "stdout",
     "output_type": "stream",
     "text": [
      "Epoch: 5, Training loss: 8.0831, Validation loss: 7.7229\n"
     ]
    },
    {
     "name": "stderr",
     "output_type": "stream",
     "text": [
      "\n",
      "  0%|                                                                                            | 0/9 [00:00<?, ?it/s]\n",
      " 33%|████████████████████████████                                                        | 3/9 [00:00<00:00, 25.71it/s]\n",
      " 78%|█████████████████████████████████████████████████████████████████▎                  | 7/9 [00:00<00:00, 28.64it/s]\n",
      "100%|████████████████████████████████████████████████████████████████████████████████████| 9/9 [00:00<00:00, 29.88it/s]"
     ]
    },
    {
     "name": "stdout",
     "output_type": "stream",
     "text": [
      "Epoch: 6, Training loss: 6.7860, Validation loss: 7.8119\n"
     ]
    },
    {
     "name": "stderr",
     "output_type": "stream",
     "text": [
      "\n",
      "  0%|                                                                                            | 0/9 [00:00<?, ?it/s]\n",
      " 33%|████████████████████████████                                                        | 3/9 [00:00<00:00, 27.10it/s]\n",
      " 89%|██████████████████████████████████████████████████████████████████████████▋         | 8/9 [00:00<00:00, 28.75it/s]\n",
      "100%|████████████████████████████████████████████████████████████████████████████████████| 9/9 [00:00<00:00, 28.56it/s]"
     ]
    },
    {
     "name": "stdout",
     "output_type": "stream",
     "text": [
      "Epoch: 7, Training loss: 10.4833, Validation loss: 8.0532\n"
     ]
    },
    {
     "name": "stderr",
     "output_type": "stream",
     "text": [
      "\n",
      "  0%|                                                                                            | 0/9 [00:00<?, ?it/s]\n",
      " 44%|█████████████████████████████████████▎                                              | 4/9 [00:00<00:00, 33.69it/s]\n",
      " 78%|█████████████████████████████████████████████████████████████████▎                  | 7/9 [00:00<00:00, 28.88it/s]\n",
      "100%|████████████████████████████████████████████████████████████████████████████████████| 9/9 [00:00<00:00, 30.28it/s]"
     ]
    },
    {
     "name": "stdout",
     "output_type": "stream",
     "text": [
      "Epoch: 8, Training loss: 7.8967, Validation loss: 12.6040\n"
     ]
    },
    {
     "name": "stderr",
     "output_type": "stream",
     "text": [
      "\n",
      "  0%|                                                                                            | 0/9 [00:00<?, ?it/s]\n",
      " 33%|████████████████████████████                                                        | 3/9 [00:00<00:00, 28.10it/s]\n",
      " 78%|█████████████████████████████████████████████████████████████████▎                  | 7/9 [00:00<00:00, 28.07it/s]\n",
      "100%|████████████████████████████████████████████████████████████████████████████████████| 9/9 [00:00<00:00, 28.56it/s]"
     ]
    },
    {
     "name": "stdout",
     "output_type": "stream",
     "text": [
      "Epoch: 9, Training loss: 19.8653, Validation loss: 11.1567\n"
     ]
    },
    {
     "name": "stderr",
     "output_type": "stream",
     "text": [
      "\n",
      "  0%|                                                                                            | 0/9 [00:00<?, ?it/s]\n",
      " 44%|█████████████████████████████████████▎                                              | 4/9 [00:00<00:00, 36.13it/s]\n",
      " 78%|█████████████████████████████████████████████████████████████████▎                  | 7/9 [00:00<00:00, 31.62it/s]\n",
      "100%|████████████████████████████████████████████████████████████████████████████████████| 9/9 [00:00<00:00, 24.93it/s]\n"
     ]
    },
    {
     "name": "stdout",
     "output_type": "stream",
     "text": [
      "Epoch: 10, Training loss: 8.3534, Validation loss: 8.4486\n"
     ]
    },
    {
     "name": "stderr",
     "output_type": "stream",
     "text": [
      "\n",
      "  0%|                                                                                            | 0/9 [00:00<?, ?it/s]\n",
      " 56%|██████████████████████████████████████████████▋                                     | 5/9 [00:00<00:00, 29.66it/s]\n",
      "100%|████████████████████████████████████████████████████████████████████████████████████| 9/9 [00:00<00:00, 32.34it/s]\n"
     ]
    },
    {
     "name": "stdout",
     "output_type": "stream",
     "text": [
      "Epoch: 11, Training loss: 9.7118, Validation loss: 7.7911\n"
     ]
    },
    {
     "name": "stderr",
     "output_type": "stream",
     "text": [
      "\n",
      "  0%|                                                                                            | 0/9 [00:00<?, ?it/s]\n",
      " 22%|██████████████████▋                                                                 | 2/9 [00:00<00:00, 19.10it/s]\n",
      " 67%|████████████████████████████████████████████████████████                            | 6/9 [00:00<00:00, 24.76it/s]\n",
      "100%|████████████████████████████████████████████████████████████████████████████████████| 9/9 [00:00<00:00, 25.42it/s]\n"
     ]
    },
    {
     "name": "stdout",
     "output_type": "stream",
     "text": [
      "Epoch: 12, Training loss: 8.2878, Validation loss: 7.8891\n"
     ]
    },
    {
     "name": "stderr",
     "output_type": "stream",
     "text": [
      "\n",
      "  0%|                                                                                            | 0/9 [00:00<?, ?it/s]\n",
      " 44%|█████████████████████████████████████▎                                              | 4/9 [00:00<00:00, 35.81it/s]\n",
      " 78%|█████████████████████████████████████████████████████████████████▎                  | 7/9 [00:00<00:00, 31.90it/s]\n",
      "100%|████████████████████████████████████████████████████████████████████████████████████| 9/9 [00:00<00:00, 32.00it/s]"
     ]
    },
    {
     "name": "stdout",
     "output_type": "stream",
     "text": [
      "Epoch: 13, Training loss: 14.8892, Validation loss: 12.3351\n"
     ]
    },
    {
     "name": "stderr",
     "output_type": "stream",
     "text": [
      "\n",
      "  0%|                                                                                            | 0/9 [00:00<?, ?it/s]\n",
      " 22%|██████████████████▋                                                                 | 2/9 [00:00<00:00, 13.74it/s]\n",
      " 67%|████████████████████████████████████████████████████████                            | 6/9 [00:00<00:00, 22.62it/s]\n",
      "100%|████████████████████████████████████████████████████████████████████████████████████| 9/9 [00:00<00:00, 26.46it/s]"
     ]
    },
    {
     "name": "stdout",
     "output_type": "stream",
     "text": [
      "Epoch: 14, Training loss: 20.2546, Validation loss: 9.0542\n"
     ]
    },
    {
     "name": "stderr",
     "output_type": "stream",
     "text": [
      "\n",
      "  0%|                                                                                            | 0/9 [00:00<?, ?it/s]\n",
      " 33%|████████████████████████████                                                        | 3/9 [00:00<00:00, 29.49it/s]\n",
      " 67%|████████████████████████████████████████████████████████                            | 6/9 [00:00<00:00, 26.04it/s]\n",
      "100%|████████████████████████████████████████████████████████████████████████████████████| 9/9 [00:00<00:00, 29.49it/s]"
     ]
    },
    {
     "name": "stdout",
     "output_type": "stream",
     "text": [
      "Epoch: 15, Training loss: 8.0695, Validation loss: 8.6433\n"
     ]
    },
    {
     "name": "stderr",
     "output_type": "stream",
     "text": [
      "\n",
      "  0%|                                                                                            | 0/9 [00:00<?, ?it/s]\n",
      " 44%|█████████████████████████████████████▎                                              | 4/9 [00:00<00:00, 36.80it/s]\n",
      " 78%|█████████████████████████████████████████████████████████████████▎                  | 7/9 [00:00<00:00, 31.33it/s]\n",
      "100%|████████████████████████████████████████████████████████████████████████████████████| 9/9 [00:00<00:00, 25.86it/s]\n"
     ]
    },
    {
     "name": "stdout",
     "output_type": "stream",
     "text": [
      "Epoch: 16, Training loss: 9.1573, Validation loss: 7.9067\n"
     ]
    },
    {
     "name": "stderr",
     "output_type": "stream",
     "text": [
      "\n",
      "  0%|                                                                                            | 0/9 [00:00<?, ?it/s]\n",
      " 56%|██████████████████████████████████████████████▋                                     | 5/9 [00:00<00:00, 37.98it/s]\n",
      " 78%|█████████████████████████████████████████████████████████████████▎                  | 7/9 [00:00<00:00, 29.37it/s]\n",
      "100%|████████████████████████████████████████████████████████████████████████████████████| 9/9 [00:00<00:00, 26.54it/s]\n"
     ]
    },
    {
     "name": "stdout",
     "output_type": "stream",
     "text": [
      "Epoch: 17, Training loss: 7.5454, Validation loss: 7.8491\n"
     ]
    },
    {
     "name": "stderr",
     "output_type": "stream",
     "text": [
      "\n",
      "  0%|                                                                                            | 0/9 [00:00<?, ?it/s]\n",
      " 44%|█████████████████████████████████████▎                                              | 4/9 [00:00<00:00, 37.48it/s]\n",
      " 78%|█████████████████████████████████████████████████████████████████▎                  | 7/9 [00:00<00:00, 32.20it/s]\n",
      "100%|████████████████████████████████████████████████████████████████████████████████████| 9/9 [00:00<00:00, 27.85it/s]\n",
      "Exception in thread Thread-6:\n",
      "Traceback (most recent call last):\n",
      "  File \"C:\\softwareinstall\\anaconda3\\lib\\threading.py\", line 914, in _bootstrap_inner\n",
      "    self.run()\n",
      "  File \"C:\\softwareinstall\\anaconda3\\lib\\site-packages\\tqdm\\_monitor.py\", line 62, in run\n",
      "    for instance in self.tqdm_cls._instances:\n",
      "  File \"C:\\softwareinstall\\anaconda3\\lib\\_weakrefset.py\", line 60, in __iter__\n",
      "    for itemref in self.data:\n",
      "RuntimeError: Set changed size during iteration\n",
      "\n",
      "\n"
     ]
    },
    {
     "name": "stdout",
     "output_type": "stream",
     "text": [
      "Epoch: 18, Training loss: 13.3955, Validation loss: 12.3165\n"
     ]
    },
    {
     "name": "stderr",
     "output_type": "stream",
     "text": [
      "100%|████████████████████████████████████████████████████████████████████████████████████| 9/9 [00:00<00:00, 30.69it/s]\n"
     ]
    },
    {
     "name": "stdout",
     "output_type": "stream",
     "text": [
      "Epoch: 19, Training loss: 12.1894, Validation loss: 11.6526\n"
     ]
    },
    {
     "name": "stderr",
     "output_type": "stream",
     "text": [
      "100%|████████████████████████████████████████████████████████████████████████████████████| 9/9 [00:00<00:00, 27.35it/s]\n"
     ]
    },
    {
     "name": "stdout",
     "output_type": "stream",
     "text": [
      "Epoch: 20, Training loss: 12.9254, Validation loss: 10.0290\n"
     ]
    },
    {
     "name": "stderr",
     "output_type": "stream",
     "text": [
      "100%|████████████████████████████████████████████████████████████████████████████████████| 9/9 [00:00<00:00, 31.77it/s]\n"
     ]
    },
    {
     "name": "stdout",
     "output_type": "stream",
     "text": [
      "Epoch: 21, Training loss: 6.2498, Validation loss: 9.6001\n"
     ]
    },
    {
     "name": "stderr",
     "output_type": "stream",
     "text": [
      "100%|████████████████████████████████████████████████████████████████████████████████████| 9/9 [00:00<00:00, 28.92it/s]\n"
     ]
    },
    {
     "name": "stdout",
     "output_type": "stream",
     "text": [
      "Epoch: 22, Training loss: 14.2322, Validation loss: 9.2813\n"
     ]
    },
    {
     "name": "stderr",
     "output_type": "stream",
     "text": [
      "100%|████████████████████████████████████████████████████████████████████████████████████| 9/9 [00:00<00:00, 27.10it/s]\n"
     ]
    },
    {
     "name": "stdout",
     "output_type": "stream",
     "text": [
      "Epoch: 23, Training loss: 19.4591, Validation loss: 9.0166\n"
     ]
    },
    {
     "name": "stderr",
     "output_type": "stream",
     "text": [
      "100%|████████████████████████████████████████████████████████████████████████████████████| 9/9 [00:00<00:00, 31.01it/s]\n"
     ]
    },
    {
     "name": "stdout",
     "output_type": "stream",
     "text": [
      "Epoch: 24, Training loss: 8.6683, Validation loss: 8.5825\n"
     ]
    },
    {
     "name": "stderr",
     "output_type": "stream",
     "text": [
      "100%|████████████████████████████████████████████████████████████████████████████████████| 9/9 [00:00<00:00, 27.26it/s]\n"
     ]
    },
    {
     "name": "stdout",
     "output_type": "stream",
     "text": [
      "Epoch: 25, Training loss: 8.5917, Validation loss: 8.4418\n"
     ]
    },
    {
     "name": "stderr",
     "output_type": "stream",
     "text": [
      "100%|████████████████████████████████████████████████████████████████████████████████████| 9/9 [00:00<00:00, 28.83it/s]\n"
     ]
    },
    {
     "name": "stdout",
     "output_type": "stream",
     "text": [
      "Epoch: 26, Training loss: 8.0834, Validation loss: 8.8980\n"
     ]
    },
    {
     "name": "stderr",
     "output_type": "stream",
     "text": [
      "100%|████████████████████████████████████████████████████████████████████████████████████| 9/9 [00:00<00:00, 29.40it/s]\n"
     ]
    },
    {
     "name": "stdout",
     "output_type": "stream",
     "text": [
      "Epoch: 27, Training loss: 10.0852, Validation loss: 10.7980\n"
     ]
    },
    {
     "name": "stderr",
     "output_type": "stream",
     "text": [
      "100%|████████████████████████████████████████████████████████████████████████████████████| 9/9 [00:00<00:00, 29.39it/s]\n"
     ]
    },
    {
     "name": "stdout",
     "output_type": "stream",
     "text": [
      "Epoch: 28, Training loss: 9.0441, Validation loss: 10.4546\n"
     ]
    },
    {
     "name": "stderr",
     "output_type": "stream",
     "text": [
      "100%|████████████████████████████████████████████████████████████████████████████████████| 9/9 [00:00<00:00, 27.35it/s]\n"
     ]
    },
    {
     "name": "stdout",
     "output_type": "stream",
     "text": [
      "Epoch: 29, Training loss: 13.0090, Validation loss: 9.8754\n"
     ]
    },
    {
     "name": "stderr",
     "output_type": "stream",
     "text": [
      "100%|████████████████████████████████████████████████████████████████████████████████████| 9/9 [00:00<00:00, 31.78it/s]\n"
     ]
    },
    {
     "name": "stdout",
     "output_type": "stream",
     "text": [
      "Epoch: 30, Training loss: 9.7841, Validation loss: 11.1015\n"
     ]
    },
    {
     "name": "stderr",
     "output_type": "stream",
     "text": [
      "100%|████████████████████████████████████████████████████████████████████████████████████| 9/9 [00:00<00:00, 26.78it/s]\n"
     ]
    },
    {
     "name": "stdout",
     "output_type": "stream",
     "text": [
      "Epoch: 31, Training loss: 20.6184, Validation loss: 10.6424\n"
     ]
    },
    {
     "name": "stderr",
     "output_type": "stream",
     "text": [
      "100%|████████████████████████████████████████████████████████████████████████████████████| 9/9 [00:00<00:00, 33.18it/s]\n"
     ]
    },
    {
     "name": "stdout",
     "output_type": "stream",
     "text": [
      "Epoch: 32, Training loss: 16.9979, Validation loss: 10.2578\n"
     ]
    },
    {
     "name": "stderr",
     "output_type": "stream",
     "text": [
      "100%|████████████████████████████████████████████████████████████████████████████████████| 9/9 [00:00<00:00, 28.03it/s]\n"
     ]
    },
    {
     "name": "stdout",
     "output_type": "stream",
     "text": [
      "Epoch: 33, Training loss: 5.3916, Validation loss: 10.1851\n"
     ]
    },
    {
     "name": "stderr",
     "output_type": "stream",
     "text": [
      "100%|████████████████████████████████████████████████████████████████████████████████████| 9/9 [00:00<00:00, 26.54it/s]\n"
     ]
    },
    {
     "name": "stdout",
     "output_type": "stream",
     "text": [
      "Epoch: 34, Training loss: 17.9205, Validation loss: 10.3236\n"
     ]
    },
    {
     "name": "stderr",
     "output_type": "stream",
     "text": [
      "100%|████████████████████████████████████████████████████████████████████████████████████| 9/9 [00:00<00:00, 33.05it/s]\n"
     ]
    },
    {
     "name": "stdout",
     "output_type": "stream",
     "text": [
      "Epoch: 35, Training loss: 22.0537, Validation loss: 9.9750\n"
     ]
    },
    {
     "name": "stderr",
     "output_type": "stream",
     "text": [
      "100%|████████████████████████████████████████████████████████████████████████████████████| 9/9 [00:00<00:00, 31.55it/s]\n"
     ]
    },
    {
     "name": "stdout",
     "output_type": "stream",
     "text": [
      "Epoch: 36, Training loss: 12.5702, Validation loss: 9.6842\n"
     ]
    },
    {
     "name": "stderr",
     "output_type": "stream",
     "text": [
      "100%|████████████████████████████████████████████████████████████████████████████████████| 9/9 [00:00<00:00, 30.38it/s]\n"
     ]
    },
    {
     "name": "stdout",
     "output_type": "stream",
     "text": [
      "Epoch: 37, Training loss: 13.2027, Validation loss: 9.4866\n"
     ]
    },
    {
     "name": "stderr",
     "output_type": "stream",
     "text": [
      "100%|████████████████████████████████████████████████████████████████████████████████████| 9/9 [00:00<00:00, 29.11it/s]\n"
     ]
    },
    {
     "name": "stdout",
     "output_type": "stream",
     "text": [
      "Epoch: 38, Training loss: 10.4309, Validation loss: 9.9240\n"
     ]
    },
    {
     "name": "stderr",
     "output_type": "stream",
     "text": [
      "100%|████████████████████████████████████████████████████████████████████████████████████| 9/9 [00:00<00:00, 30.08it/s]\n"
     ]
    },
    {
     "name": "stdout",
     "output_type": "stream",
     "text": [
      "Epoch: 39, Training loss: 10.2231, Validation loss: 8.8882\n"
     ]
    },
    {
     "name": "stderr",
     "output_type": "stream",
     "text": [
      "100%|████████████████████████████████████████████████████████████████████████████████████| 9/9 [00:00<00:00, 31.66it/s]\n"
     ]
    },
    {
     "name": "stdout",
     "output_type": "stream",
     "text": [
      "Epoch: 40, Training loss: 22.0355, Validation loss: 8.8393\n"
     ]
    },
    {
     "name": "stderr",
     "output_type": "stream",
     "text": [
      "100%|████████████████████████████████████████████████████████████████████████████████████| 9/9 [00:00<00:00, 31.12it/s]\n"
     ]
    },
    {
     "name": "stdout",
     "output_type": "stream",
     "text": [
      "Epoch: 41, Training loss: 11.2569, Validation loss: 10.2387\n"
     ]
    },
    {
     "name": "stderr",
     "output_type": "stream",
     "text": [
      "100%|████████████████████████████████████████████████████████████████████████████████████| 9/9 [00:00<00:00, 29.30it/s]\n"
     ]
    },
    {
     "name": "stdout",
     "output_type": "stream",
     "text": [
      "Epoch: 42, Training loss: 10.7328, Validation loss: 9.5424\n"
     ]
    },
    {
     "name": "stderr",
     "output_type": "stream",
     "text": [
      "100%|████████████████████████████████████████████████████████████████████████████████████| 9/9 [00:00<00:00, 30.18it/s]\n"
     ]
    },
    {
     "name": "stdout",
     "output_type": "stream",
     "text": [
      "Epoch: 43, Training loss: 6.9124, Validation loss: 10.4838\n"
     ]
    },
    {
     "name": "stderr",
     "output_type": "stream",
     "text": [
      "100%|████████████████████████████████████████████████████████████████████████████████████| 9/9 [00:00<00:00, 33.30it/s]\n"
     ]
    },
    {
     "name": "stdout",
     "output_type": "stream",
     "text": [
      "Epoch: 44, Training loss: 8.1278, Validation loss: 10.4895\n"
     ]
    },
    {
     "name": "stderr",
     "output_type": "stream",
     "text": [
      "100%|████████████████████████████████████████████████████████████████████████████████████| 9/9 [00:00<00:00, 34.31it/s]\n"
     ]
    },
    {
     "name": "stdout",
     "output_type": "stream",
     "text": [
      "Epoch: 45, Training loss: 30.7927, Validation loss: 9.6842\n"
     ]
    },
    {
     "name": "stderr",
     "output_type": "stream",
     "text": [
      "100%|████████████████████████████████████████████████████████████████████████████████████| 9/9 [00:00<00:00, 31.55it/s]\n"
     ]
    },
    {
     "name": "stdout",
     "output_type": "stream",
     "text": [
      "Epoch: 46, Training loss: 7.4489, Validation loss: 9.3593\n"
     ]
    },
    {
     "name": "stderr",
     "output_type": "stream",
     "text": [
      "100%|████████████████████████████████████████████████████████████████████████████████████| 9/9 [00:00<00:00, 33.06it/s]\n"
     ]
    },
    {
     "name": "stdout",
     "output_type": "stream",
     "text": [
      "Epoch: 47, Training loss: 15.9915, Validation loss: 8.7594\n"
     ]
    },
    {
     "name": "stderr",
     "output_type": "stream",
     "text": [
      "100%|████████████████████████████████████████████████████████████████████████████████████| 9/9 [00:00<00:00, 33.18it/s]\n"
     ]
    },
    {
     "name": "stdout",
     "output_type": "stream",
     "text": [
      "Epoch: 48, Training loss: 9.7420, Validation loss: 8.2326\n"
     ]
    },
    {
     "name": "stderr",
     "output_type": "stream",
     "text": [
      "100%|████████████████████████████████████████████████████████████████████████████████████| 9/9 [00:00<00:00, 32.70it/s]\n"
     ]
    },
    {
     "name": "stdout",
     "output_type": "stream",
     "text": [
      "Epoch: 49, Training loss: 11.6730, Validation loss: 8.1026\n"
     ]
    },
    {
     "name": "stderr",
     "output_type": "stream",
     "text": [
      "100%|████████████████████████████████████████████████████████████████████████████████████| 9/9 [00:00<00:00, 32.93it/s]\n"
     ]
    },
    {
     "name": "stdout",
     "output_type": "stream",
     "text": [
      "Epoch: 50, Training loss: 5.7203, Validation loss: 8.1184\n"
     ]
    },
    {
     "name": "stderr",
     "output_type": "stream",
     "text": [
      "100%|████████████████████████████████████████████████████████████████████████████████████| 9/9 [00:00<00:00, 32.34it/s]\n"
     ]
    },
    {
     "name": "stdout",
     "output_type": "stream",
     "text": [
      "Epoch: 51, Training loss: 8.2730, Validation loss: 8.3622\n"
     ]
    },
    {
     "name": "stderr",
     "output_type": "stream",
     "text": [
      "100%|████████████████████████████████████████████████████████████████████████████████████| 9/9 [00:00<00:00, 31.12it/s]\n"
     ]
    },
    {
     "name": "stdout",
     "output_type": "stream",
     "text": [
      "Epoch: 52, Training loss: 9.0768, Validation loss: 8.2380\n"
     ]
    },
    {
     "name": "stderr",
     "output_type": "stream",
     "text": [
      "100%|████████████████████████████████████████████████████████████████████████████████████| 9/9 [00:00<00:00, 31.23it/s]\n"
     ]
    },
    {
     "name": "stdout",
     "output_type": "stream",
     "text": [
      "Epoch: 53, Training loss: 21.7500, Validation loss: 8.0342\n"
     ]
    },
    {
     "name": "stderr",
     "output_type": "stream",
     "text": [
      "100%|████████████████████████████████████████████████████████████████████████████████████| 9/9 [00:00<00:00, 29.88it/s]\n"
     ]
    },
    {
     "name": "stdout",
     "output_type": "stream",
     "text": [
      "Epoch: 54, Training loss: 8.9572, Validation loss: 7.6062\n"
     ]
    },
    {
     "name": "stderr",
     "output_type": "stream",
     "text": [
      "100%|████████████████████████████████████████████████████████████████████████████████████| 9/9 [00:00<00:00, 30.80it/s]\n"
     ]
    },
    {
     "name": "stdout",
     "output_type": "stream",
     "text": [
      "Epoch: 55, Training loss: 9.1929, Validation loss: 7.4254\n"
     ]
    },
    {
     "name": "stderr",
     "output_type": "stream",
     "text": [
      "100%|████████████████████████████████████████████████████████████████████████████████████| 9/9 [00:00<00:00, 30.90it/s]\n"
     ]
    },
    {
     "name": "stdout",
     "output_type": "stream",
     "text": [
      "Epoch: 56, Training loss: 7.8248, Validation loss: 9.0552\n"
     ]
    },
    {
     "name": "stderr",
     "output_type": "stream",
     "text": [
      "100%|████████████████████████████████████████████████████████████████████████████████████| 9/9 [00:00<00:00, 31.55it/s]\n"
     ]
    },
    {
     "name": "stdout",
     "output_type": "stream",
     "text": [
      "Epoch: 57, Training loss: 13.2121, Validation loss: 8.8880\n"
     ]
    },
    {
     "name": "stderr",
     "output_type": "stream",
     "text": [
      "100%|████████████████████████████████████████████████████████████████████████████████████| 9/9 [00:00<00:00, 33.05it/s]\n"
     ]
    },
    {
     "name": "stdout",
     "output_type": "stream",
     "text": [
      "Epoch: 58, Training loss: 10.4052, Validation loss: 8.4433\n"
     ]
    },
    {
     "name": "stderr",
     "output_type": "stream",
     "text": [
      "100%|████████████████████████████████████████████████████████████████████████████████████| 9/9 [00:00<00:00, 32.58it/s]\n"
     ]
    },
    {
     "name": "stdout",
     "output_type": "stream",
     "text": [
      "Epoch: 59, Training loss: 6.9889, Validation loss: 7.8718\n"
     ]
    },
    {
     "name": "stderr",
     "output_type": "stream",
     "text": [
      "100%|████████████████████████████████████████████████████████████████████████████████████| 9/9 [00:00<00:00, 34.58it/s]\n"
     ]
    },
    {
     "name": "stdout",
     "output_type": "stream",
     "text": [
      "Epoch: 60, Training loss: 7.1512, Validation loss: 7.7386\n"
     ]
    },
    {
     "name": "stderr",
     "output_type": "stream",
     "text": [
      "100%|████████████████████████████████████████████████████████████████████████████████████| 9/9 [00:00<00:00, 33.55it/s]\n"
     ]
    },
    {
     "name": "stdout",
     "output_type": "stream",
     "text": [
      "Epoch: 61, Training loss: 8.6080, Validation loss: 7.6292\n"
     ]
    },
    {
     "name": "stderr",
     "output_type": "stream",
     "text": [
      "100%|████████████████████████████████████████████████████████████████████████████████████| 9/9 [00:00<00:00, 32.46it/s]\n"
     ]
    },
    {
     "name": "stdout",
     "output_type": "stream",
     "text": [
      "Epoch: 62, Training loss: 13.2301, Validation loss: 8.0204\n"
     ]
    },
    {
     "name": "stderr",
     "output_type": "stream",
     "text": [
      "100%|████████████████████████████████████████████████████████████████████████████████████| 9/9 [00:00<00:00, 27.02it/s]\n"
     ]
    },
    {
     "name": "stdout",
     "output_type": "stream",
     "text": [
      "Epoch: 63, Training loss: 6.8428, Validation loss: 7.0142\n"
     ]
    },
    {
     "name": "stderr",
     "output_type": "stream",
     "text": [
      "100%|████████████████████████████████████████████████████████████████████████████████████| 9/9 [00:00<00:00, 33.42it/s]\n"
     ]
    },
    {
     "name": "stdout",
     "output_type": "stream",
     "text": [
      "Epoch: 64, Training loss: 7.1968, Validation loss: 9.6304\n"
     ]
    },
    {
     "name": "stderr",
     "output_type": "stream",
     "text": [
      "100%|████████████████████████████████████████████████████████████████████████████████████| 9/9 [00:00<00:00, 35.25it/s]\n"
     ]
    },
    {
     "name": "stdout",
     "output_type": "stream",
     "text": [
      "Epoch: 65, Training loss: 7.4881, Validation loss: 8.0683\n"
     ]
    },
    {
     "name": "stderr",
     "output_type": "stream",
     "text": [
      "100%|████████████████████████████████████████████████████████████████████████████████████| 9/9 [00:00<00:00, 29.39it/s]\n"
     ]
    },
    {
     "name": "stdout",
     "output_type": "stream",
     "text": [
      "Epoch: 66, Training loss: 13.4701, Validation loss: 8.9931\n"
     ]
    },
    {
     "name": "stderr",
     "output_type": "stream",
     "text": [
      "100%|████████████████████████████████████████████████████████████████████████████████████| 9/9 [00:00<00:00, 32.46it/s]\n"
     ]
    },
    {
     "name": "stdout",
     "output_type": "stream",
     "text": [
      "Epoch: 67, Training loss: 8.0680, Validation loss: 9.1708\n"
     ]
    },
    {
     "name": "stderr",
     "output_type": "stream",
     "text": [
      "100%|████████████████████████████████████████████████████████████████████████████████████| 9/9 [00:00<00:00, 30.90it/s]\n"
     ]
    },
    {
     "name": "stdout",
     "output_type": "stream",
     "text": [
      "Epoch: 68, Training loss: 12.4023, Validation loss: 7.7327\n"
     ]
    },
    {
     "name": "stderr",
     "output_type": "stream",
     "text": [
      "100%|████████████████████████████████████████████████████████████████████████████████████| 9/9 [00:00<00:00, 31.23it/s]\n"
     ]
    },
    {
     "name": "stdout",
     "output_type": "stream",
     "text": [
      "Epoch: 69, Training loss: 7.2417, Validation loss: 7.4147\n"
     ]
    },
    {
     "name": "stderr",
     "output_type": "stream",
     "text": [
      "100%|████████████████████████████████████████████████████████████████████████████████████| 9/9 [00:00<00:00, 33.55it/s]\n"
     ]
    },
    {
     "name": "stdout",
     "output_type": "stream",
     "text": [
      "Epoch: 70, Training loss: 6.8805, Validation loss: 7.5985\n"
     ]
    },
    {
     "name": "stderr",
     "output_type": "stream",
     "text": [
      "100%|████████████████████████████████████████████████████████████████████████████████████| 9/9 [00:00<00:00, 32.34it/s]\n"
     ]
    },
    {
     "name": "stdout",
     "output_type": "stream",
     "text": [
      "Epoch: 71, Training loss: 9.6713, Validation loss: 7.6775\n"
     ]
    },
    {
     "name": "stderr",
     "output_type": "stream",
     "text": [
      "100%|████████████████████████████████████████████████████████████████████████████████████| 9/9 [00:00<00:00, 33.42it/s]\n"
     ]
    },
    {
     "name": "stdout",
     "output_type": "stream",
     "text": [
      "Epoch: 72, Training loss: 13.4252, Validation loss: 7.4342\n"
     ]
    },
    {
     "name": "stderr",
     "output_type": "stream",
     "text": [
      "100%|████████████████████████████████████████████████████████████████████████████████████| 9/9 [00:00<00:00, 32.11it/s]\n"
     ]
    },
    {
     "name": "stdout",
     "output_type": "stream",
     "text": [
      "Epoch: 73, Training loss: 8.3355, Validation loss: 9.2457\n"
     ]
    },
    {
     "name": "stderr",
     "output_type": "stream",
     "text": [
      "100%|████████████████████████████████████████████████████████████████████████████████████| 9/9 [00:00<00:00, 34.18it/s]\n"
     ]
    },
    {
     "name": "stdout",
     "output_type": "stream",
     "text": [
      "Epoch: 74, Training loss: 5.4794, Validation loss: 8.3748\n"
     ]
    },
    {
     "name": "stderr",
     "output_type": "stream",
     "text": [
      "100%|████████████████████████████████████████████████████████████████████████████████████| 9/9 [00:00<00:00, 32.81it/s]\n"
     ]
    },
    {
     "name": "stdout",
     "output_type": "stream",
     "text": [
      "Epoch: 75, Training loss: 5.8341, Validation loss: 8.8074\n"
     ]
    },
    {
     "name": "stderr",
     "output_type": "stream",
     "text": [
      "100%|████████████████████████████████████████████████████████████████████████████████████| 9/9 [00:00<00:00, 32.81it/s]\n"
     ]
    },
    {
     "name": "stdout",
     "output_type": "stream",
     "text": [
      "Epoch: 76, Training loss: 3.4649, Validation loss: 9.9818\n"
     ]
    },
    {
     "name": "stderr",
     "output_type": "stream",
     "text": [
      "100%|████████████████████████████████████████████████████████████████████████████████████| 9/9 [00:00<00:00, 32.82it/s]\n"
     ]
    },
    {
     "name": "stdout",
     "output_type": "stream",
     "text": [
      "Epoch: 77, Training loss: 5.1257, Validation loss: 9.0868\n"
     ]
    },
    {
     "name": "stderr",
     "output_type": "stream",
     "text": [
      "100%|████████████████████████████████████████████████████████████████████████████████████| 9/9 [00:00<00:00, 31.33it/s]\n"
     ]
    },
    {
     "name": "stdout",
     "output_type": "stream",
     "text": [
      "Epoch: 78, Training loss: 5.1670, Validation loss: 9.2268\n"
     ]
    },
    {
     "name": "stderr",
     "output_type": "stream",
     "text": [
      "100%|████████████████████████████████████████████████████████████████████████████████████| 9/9 [00:00<00:00, 32.00it/s]\n"
     ]
    },
    {
     "name": "stdout",
     "output_type": "stream",
     "text": [
      "Epoch: 79, Training loss: 5.4067, Validation loss: 9.3805\n"
     ]
    },
    {
     "name": "stderr",
     "output_type": "stream",
     "text": [
      "100%|████████████████████████████████████████████████████████████████████████████████████| 9/9 [00:00<00:00, 30.48it/s]\n"
     ]
    },
    {
     "name": "stdout",
     "output_type": "stream",
     "text": [
      "Epoch: 80, Training loss: 6.6314, Validation loss: 10.4662\n"
     ]
    },
    {
     "name": "stderr",
     "output_type": "stream",
     "text": [
      "100%|████████████████████████████████████████████████████████████████████████████████████| 9/9 [00:00<00:00, 35.66it/s]\n"
     ]
    },
    {
     "name": "stdout",
     "output_type": "stream",
     "text": [
      "Epoch: 81, Training loss: 3.8305, Validation loss: 10.0693\n"
     ]
    },
    {
     "name": "stderr",
     "output_type": "stream",
     "text": [
      "100%|████████████████████████████████████████████████████████████████████████████████████| 9/9 [00:00<00:00, 31.89it/s]\n"
     ]
    },
    {
     "name": "stdout",
     "output_type": "stream",
     "text": [
      "Epoch: 82, Training loss: 66.6666, Validation loss: 16.3445\n"
     ]
    },
    {
     "name": "stderr",
     "output_type": "stream",
     "text": [
      "100%|████████████████████████████████████████████████████████████████████████████████████| 9/9 [00:00<00:00, 27.85it/s]\n"
     ]
    },
    {
     "name": "stdout",
     "output_type": "stream",
     "text": [
      "Epoch: 83, Training loss: 15.2808, Validation loss: 8.7259\n"
     ]
    },
    {
     "name": "stderr",
     "output_type": "stream",
     "text": [
      "100%|████████████████████████████████████████████████████████████████████████████████████| 9/9 [00:00<00:00, 29.88it/s]\n"
     ]
    },
    {
     "name": "stdout",
     "output_type": "stream",
     "text": [
      "Epoch: 84, Training loss: 14.6317, Validation loss: 11.0022\n"
     ]
    },
    {
     "name": "stderr",
     "output_type": "stream",
     "text": [
      "100%|████████████████████████████████████████████████████████████████████████████████████| 9/9 [00:00<00:00, 29.68it/s]\n"
     ]
    },
    {
     "name": "stdout",
     "output_type": "stream",
     "text": [
      "Epoch: 85, Training loss: 10.9521, Validation loss: 13.4061\n"
     ]
    },
    {
     "name": "stderr",
     "output_type": "stream",
     "text": [
      "100%|████████████████████████████████████████████████████████████████████████████████████| 9/9 [00:00<00:00, 29.78it/s]\n"
     ]
    },
    {
     "name": "stdout",
     "output_type": "stream",
     "text": [
      "Epoch: 86, Training loss: 10.2115, Validation loss: 8.2188\n"
     ]
    },
    {
     "name": "stderr",
     "output_type": "stream",
     "text": [
      "100%|████████████████████████████████████████████████████████████████████████████████████| 9/9 [00:00<00:00, 26.70it/s]\n"
     ]
    },
    {
     "name": "stdout",
     "output_type": "stream",
     "text": [
      "Epoch: 87, Training loss: 5.8449, Validation loss: 28.8644\n"
     ]
    },
    {
     "name": "stderr",
     "output_type": "stream",
     "text": [
      "100%|████████████████████████████████████████████████████████████████████████████████████| 9/9 [00:00<00:00, 34.97it/s]\n"
     ]
    },
    {
     "name": "stdout",
     "output_type": "stream",
     "text": [
      "Epoch: 88, Training loss: 6.2474, Validation loss: 34.9640\n"
     ]
    },
    {
     "name": "stderr",
     "output_type": "stream",
     "text": [
      "100%|████████████████████████████████████████████████████████████████████████████████████| 9/9 [00:00<00:00, 33.80it/s]\n"
     ]
    },
    {
     "name": "stdout",
     "output_type": "stream",
     "text": [
      "Epoch: 89, Training loss: 6.9614, Validation loss: 34.6741\n"
     ]
    },
    {
     "name": "stderr",
     "output_type": "stream",
     "text": [
      "100%|████████████████████████████████████████████████████████████████████████████████████| 9/9 [00:00<00:00, 31.01it/s]\n"
     ]
    },
    {
     "name": "stdout",
     "output_type": "stream",
     "text": [
      "Epoch: 90, Training loss: 7.3162, Validation loss: 33.6941\n"
     ]
    },
    {
     "name": "stderr",
     "output_type": "stream",
     "text": [
      "100%|████████████████████████████████████████████████████████████████████████████████████| 9/9 [00:00<00:00, 25.64it/s]\n"
     ]
    },
    {
     "name": "stdout",
     "output_type": "stream",
     "text": [
      "Epoch: 91, Training loss: 10.3609, Validation loss: 11.6767\n"
     ]
    },
    {
     "name": "stderr",
     "output_type": "stream",
     "text": [
      "100%|████████████████████████████████████████████████████████████████████████████████████| 9/9 [00:00<00:00, 30.69it/s]\n"
     ]
    },
    {
     "name": "stdout",
     "output_type": "stream",
     "text": [
      "Epoch: 92, Training loss: 2.7564, Validation loss: 11.5983\n"
     ]
    },
    {
     "name": "stderr",
     "output_type": "stream",
     "text": [
      "100%|████████████████████████████████████████████████████████████████████████████████████| 9/9 [00:00<00:00, 26.78it/s]\n"
     ]
    },
    {
     "name": "stdout",
     "output_type": "stream",
     "text": [
      "Epoch: 93, Training loss: 12.3809, Validation loss: 9.9277\n"
     ]
    },
    {
     "name": "stderr",
     "output_type": "stream",
     "text": [
      "100%|████████████████████████████████████████████████████████████████████████████████████| 9/9 [00:00<00:00, 31.01it/s]\n"
     ]
    },
    {
     "name": "stdout",
     "output_type": "stream",
     "text": [
      "Epoch: 94, Training loss: 14.1182, Validation loss: 12.2105\n"
     ]
    },
    {
     "name": "stderr",
     "output_type": "stream",
     "text": [
      "100%|████████████████████████████████████████████████████████████████████████████████████| 9/9 [00:00<00:00, 30.18it/s]\n"
     ]
    },
    {
     "name": "stdout",
     "output_type": "stream",
     "text": [
      "Epoch: 95, Training loss: 12.0875, Validation loss: 9.6489\n"
     ]
    },
    {
     "name": "stderr",
     "output_type": "stream",
     "text": [
      "100%|████████████████████████████████████████████████████████████████████████████████████| 9/9 [00:00<00:00, 27.26it/s]\n"
     ]
    },
    {
     "name": "stdout",
     "output_type": "stream",
     "text": [
      "Epoch: 96, Training loss: 11.5864, Validation loss: 10.1946\n"
     ]
    },
    {
     "name": "stderr",
     "output_type": "stream",
     "text": [
      "100%|████████████████████████████████████████████████████████████████████████████████████| 9/9 [00:00<00:00, 32.93it/s]\n"
     ]
    },
    {
     "name": "stdout",
     "output_type": "stream",
     "text": [
      "Epoch: 97, Training loss: 14.8066, Validation loss: 10.9945\n"
     ]
    },
    {
     "name": "stderr",
     "output_type": "stream",
     "text": [
      "100%|████████████████████████████████████████████████████████████████████████████████████| 9/9 [00:00<00:00, 33.80it/s]\n"
     ]
    },
    {
     "name": "stdout",
     "output_type": "stream",
     "text": [
      "Epoch: 98, Training loss: 12.2576, Validation loss: 11.2639\n"
     ]
    },
    {
     "name": "stderr",
     "output_type": "stream",
     "text": [
      "100%|████████████████████████████████████████████████████████████████████████████████████| 9/9 [00:00<00:00, 32.93it/s]\n"
     ]
    },
    {
     "name": "stdout",
     "output_type": "stream",
     "text": [
      "Epoch: 99, Training loss: 3.8151, Validation loss: 11.8716\n"
     ]
    },
    {
     "name": "stderr",
     "output_type": "stream",
     "text": [
      "100%|████████████████████████████████████████████████████████████████████████████████████| 9/9 [00:00<00:00, 31.12it/s]\n"
     ]
    },
    {
     "name": "stdout",
     "output_type": "stream",
     "text": [
      "Epoch: 100, Training loss: 19.0539, Validation loss: 12.2566\n"
     ]
    },
    {
     "name": "stderr",
     "output_type": "stream",
     "text": [
      "\r",
      "  0%|                                                                                           | 0/11 [00:00<?, ?it/s]"
     ]
    },
    {
     "name": "stdout",
     "output_type": "stream",
     "text": [
      "tensor([0.])  >>>  [[0.02849705 0.00210586]\n",
      " [0.02849705 0.00210586]\n",
      " [0.04147828 0.00283769]]\n",
      "tensor([0.])  >>>  [[0.0284971  0.00210586]\n",
      " [0.02853455 0.00211182]\n",
      " [0.04454725 0.00305275]]\n",
      "tensor([0.])  >>>  [[2.8497057e-02 2.1058565e-03]\n",
      " [2.8497051e-02 2.1058565e-03]\n",
      " [6.7120459e-04 4.7634949e-06]]\n",
      "tensor([0.])  >>>  [[0.02849706 0.00210586]\n",
      " [0.05186025 0.00386484]\n",
      " [0.02847693 0.00210329]]\n",
      "tensor([0.])  >>>  [[0.0285045  0.00210714]\n",
      " [0.02849711 0.00210587]\n",
      " [0.15458082 0.03585403]]\n",
      "tensor([0.])  >>>  [[0.05041096 0.00355884]\n",
      " [0.02849706 0.00210586]\n",
      " [0.38265657 0.32247508]]\n",
      "tensor([0.])  >>>  [[0.02843609 0.00209789]\n",
      " [0.03147018 0.00173809]\n",
      " [0.00936708 0.00032664]]\n",
      "tensor([0.])  >>>  [[0.05988883 0.00520493]\n",
      " [0.02849705 0.00210586]\n",
      " [0.0283615  0.00208746]]\n",
      "tensor([0.])  >>>  [[0.02849721 0.00210588]\n",
      " [0.07702307 0.00865315]\n",
      " [0.02849732 0.0021059 ]]\n",
      "tensor([0.])  >>>  [[0.02849999 0.00210633]\n",
      " [0.02849721 0.00210588]\n",
      " [0.03946575 0.00257403]]\n"
     ]
    },
    {
     "name": "stderr",
     "output_type": "stream",
     "text": [
      "\r",
      " 91%|██████████████████████████████████████████████████████████████████████████▌       | 10/11 [00:00<00:00, 97.35it/s]"
     ]
    },
    {
     "name": "stdout",
     "output_type": "stream",
     "text": [
      "tensor([0.])  >>>  [[3.8078952e-01 3.2009682e-01]\n",
      " [2.8497051e-02 2.1058565e-03]\n",
      " [7.2078308e-04 4.6292698e-06]]\n"
     ]
    },
    {
     "name": "stderr",
     "output_type": "stream",
     "text": [
      "100%|██████████████████████████████████████████████████████████████████████████████████| 11/11 [00:00<00:00, 96.75it/s]\n"
     ]
    }
   ],
   "source": [
    "import torch.optim as optim\n",
    "import torch.nn as nn\n",
    "from model import BiLSTM\n",
    "\n",
    "vocab_size = len(TEXT.vocab)\n",
    "emb_dim = 100\n",
    "hidden_dim = 50\n",
    "out_dim = 2 #only use 'toxic' and 'threat'\n",
    "pretrained_vec = trn.fields['comment_text'].vocab.vectors\n",
    "model = BiLSTM(vocab_size, hidden_dim, emb_dim, out_dim, pretrained_vec)\n",
    "print (model)\n",
    "model.cuda()\n",
    "\n",
    "import tqdm\n",
    "opt = optim.Adam(model.parameters(), lr=1e-2)\n",
    "criterion = nn.BCEWithLogitsLoss()\n",
    "epochs = 100\n",
    "train_loss = []\n",
    "valid_loss = []\n",
    "\n",
    "for epoch in range(1, epochs+1):\n",
    "    training_loss = 0.0\n",
    "    training_corrects = 0\n",
    "    model.train()\n",
    "    for x, y in tqdm.tqdm(train_batch_it):\n",
    "        opt.zero_grad()\n",
    "        preds = model(x)\n",
    "        loss = criterion(preds, y)\n",
    "\n",
    "        loss.backward()\n",
    "        opt.step()\n",
    "        training_loss += loss.item() * x.size(0)\n",
    "    epoch_loss = training_loss/ len(trn)\n",
    "\n",
    "    val_loss = 0.0\n",
    "    model.eval()\n",
    "    for x,y in valid_batch_it:\n",
    "        preds = model(x)\n",
    "        loss = criterion(preds, y)\n",
    "        val_loss += loss.item() * x.size(0)\n",
    "    val_loss /= len(vld)\n",
    "    train_loss.append(epoch_loss)\n",
    "    valid_loss.append(val_loss)\n",
    "    print ('Epoch: {}, Training loss: {:.4f}, Validation loss: {:.4f}'.format(epoch, epoch_loss, val_loss))\n",
    "    \n",
    "#predictions. note that the preds is the probability of the comment belong in each category output\n",
    "test_preds = []\n",
    "for x, y in tqdm.tqdm(test_batch_it):\n",
    "    preds = model(x)\n",
    "    preds = preds.data.cpu().numpy()\n",
    "    preds = 1/(1+np.exp(-preds)) #actual output of the model are logits, so we need to pass into sigmoid function\n",
    "    test_preds.append(preds)\n",
    "    print (y, ' >>> ',  preds)\n",
    "\n",
    "test_preds = np.hstack(test_preds)\n"
   ]
  },
  {
   "cell_type": "code",
   "execution_count": 11,
   "metadata": {
    "collapsed": false
   },
   "outputs": [
    {
     "name": "stdout",
     "output_type": "stream",
     "text": [
      "range(1, 101)\n"
     ]
    }
   ],
   "source": [
    "import matplotlib.pyplot as plt\n",
    "ep = range(1, epochs+1)\n",
    "print (ep)\n",
    "plt.plot(ep, train_loss, 'bo', label='Training loss')\n",
    "plt.plot(ep, valid_loss, 'b', label='Validation loss')\n",
    "plt.title('Training and validation loss')\n",
    "plt.xlabel('Epochs')\n",
    "plt.ylabel('Loss')\n",
    "plt.legend()\n",
    "plt.savefig('plt.png')\n",
    "#print (test_preds)\n",
    "\n",
    "# import sys\n",
    "# sys.exit()\n",
    "\n",
    "# #write predictions to csv\n",
    "# df = pd.read_csv(\"data/test.csv\") \n",
    "# for i, col in enumerate([\"toxic\", \"threat\"]):\n",
    "#     df[col] = test_preds[:, i]\n",
    "# df.head()\n"
   ]
  },
  {
   "cell_type": "code",
   "execution_count": null,
   "metadata": {
    "collapsed": true
   },
   "outputs": [],
   "source": [
    "# https://github.com/littleflow3r/bilstm-pytorch-torchtext"
   ]
  }
 ],
 "metadata": {
  "anaconda-cloud": {},
  "kernelspec": {
   "display_name": "Python [conda root]",
   "language": "python",
   "name": "conda-root-py"
  },
  "language_info": {
   "codemirror_mode": {
    "name": "ipython",
    "version": 3
   },
   "file_extension": ".py",
   "mimetype": "text/x-python",
   "name": "python",
   "nbconvert_exporter": "python",
   "pygments_lexer": "ipython3",
   "version": "3.5.2"
  }
 },
 "nbformat": 4,
 "nbformat_minor": 1
}
