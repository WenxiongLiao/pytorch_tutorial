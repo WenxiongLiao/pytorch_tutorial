{
 "cells": [
  {
   "cell_type": "code",
   "execution_count": 1,
   "metadata": {
    "collapsed": false
   },
   "outputs": [],
   "source": [
    "import torch\n",
    "import torch.nn as nn\n",
    "import torch.nn.functional as F\n",
    "import torch.utils.data.dataloader as dataloader\n",
    "import torch.optim as optim\n",
    "import torch.autograd as autograd\n",
    "import torchtext.vocab as torchvocab\n",
    "from torch.autograd import Variable\n",
    "import tqdm\n",
    "import os\n",
    "import time\n",
    "import re\n",
    "import pandas as pd\n",
    "import string\n",
    "import gensim\n",
    "import time\n",
    "import random\n",
    "import snowballstemmer\n",
    "import collections\n",
    "from collections import Counter\n",
    "from nltk.corpus import stopwords\n",
    "from itertools import chain\n",
    "from sklearn.metrics import accuracy_score\n"
   ]
  },
  {
   "cell_type": "code",
   "execution_count": 2,
   "metadata": {
    "collapsed": false
   },
   "outputs": [],
   "source": [
    "def readIMDB(path, seg='train'):\n",
    "    pos_or_neg = ['pos', 'neg']\n",
    "    data = []\n",
    "    for label in pos_or_neg:\n",
    "        files = os.listdir(os.path.join(path, seg, label))\n",
    "        for file in files:\n",
    "            with open(os.path.join(path, seg, label, file), 'r', encoding='utf8') as rf:\n",
    "                review = rf.read().replace('\\n', '')\n",
    "                if label == 'pos':\n",
    "                    data.append([review, 1])\n",
    "                elif label == 'neg':\n",
    "                    data.append([review, 0])\n",
    "    return data\n",
    "\n",
    "train_data = readIMDB('E:\\\\语料\\\\aclImdb_v1\\\\aclImdb')\n",
    "test_data = readIMDB('E:\\\\语料\\\\aclImdb_v1\\\\aclImdb', 'test')\n"
   ]
  },
  {
   "cell_type": "code",
   "execution_count": 3,
   "metadata": {
    "collapsed": true
   },
   "outputs": [],
   "source": [
    "def tokenizer(text):\n",
    "    return [tok.lower() for tok in text.split(' ')]\n",
    "\n",
    "train_tokenized = []\n",
    "test_tokenized = []\n",
    "for review, score in train_data:\n",
    "    train_tokenized.append(tokenizer(review))\n",
    "for review, score in test_data:\n",
    "    test_tokenized.append(tokenizer(review))\n",
    "\n",
    "vocab = set(chain(*train_tokenized))\n",
    "vocab_size = len(vocab)\n"
   ]
  },
  {
   "cell_type": "code",
   "execution_count": 4,
   "metadata": {
    "collapsed": false
   },
   "outputs": [
    {
     "name": "stderr",
     "output_type": "stream",
     "text": [
      "C:\\softwareinstall\\anaconda3\\lib\\site-packages\\ipykernel\\__main__.py:3: DeprecationWarning: Call to deprecated `wv` (Attribute will be removed in 4.0.0, use self instead).\n",
      "  app.launch_new_instance()\n"
     ]
    },
    {
     "name": "stdout",
     "output_type": "stream",
     "text": [
      "391842\n"
     ]
    }
   ],
   "source": [
    "wvmodel = gensim.models.KeyedVectors.load_word2vec_format('E:\\\\语料\\word2vec\\\\glove.6B\\\\glove.6B.100d.txt',\n",
    "                                                          binary=False, encoding='utf-8')\n",
    "print(len(wvmodel.wv.vocab))"
   ]
  },
  {
   "cell_type": "code",
   "execution_count": 5,
   "metadata": {
    "collapsed": false
   },
   "outputs": [],
   "source": [
    "word_to_idx  = {word: i+1 for i, word in enumerate(vocab)}\n",
    "word_to_idx['<unk>'] = 0\n",
    "idx_to_word = {i+1: word for i, word in enumerate(vocab)}\n",
    "idx_to_word[0] = '<unk>'"
   ]
  },
  {
   "cell_type": "code",
   "execution_count": 6,
   "metadata": {
    "collapsed": true
   },
   "outputs": [],
   "source": [
    "def encode_samples(tokenized_samples, vocab):\n",
    "    features = []\n",
    "    for sample in tokenized_samples:\n",
    "        feature = []\n",
    "        for token in sample:\n",
    "            if token in word_to_idx:\n",
    "                feature.append(word_to_idx[token])\n",
    "            else:\n",
    "                feature.append(0)\n",
    "        features.append(feature)\n",
    "    return features\n",
    "\n",
    "def pad_samples(features, maxlen=500, PAD=0):\n",
    "    padded_features = []\n",
    "    for feature in features:\n",
    "        if len(feature) >= maxlen:\n",
    "            padded_feature = feature[:maxlen]\n",
    "        else:\n",
    "            padded_feature = feature\n",
    "            while(len(padded_feature) < maxlen):\n",
    "                padded_feature.append(PAD)\n",
    "        padded_features.append(padded_feature)\n",
    "    return padded_features\n"
   ]
  },
  {
   "cell_type": "code",
   "execution_count": 8,
   "metadata": {
    "collapsed": true
   },
   "outputs": [],
   "source": [
    "train_features = torch.tensor(pad_samples(encode_samples(train_tokenized, vocab)))\n",
    "train_labels = torch.tensor([score for _, score in train_data])\n",
    "test_features = torch.tensor(pad_samples(encode_samples(test_tokenized, vocab)))\n",
    "test_labels = torch.tensor([score for _, score in test_data])\n"
   ]
  },
  {
   "cell_type": "code",
   "execution_count": 19,
   "metadata": {
    "collapsed": true
   },
   "outputs": [],
   "source": [
    "class textCNN(nn.Module):\n",
    "    def __init__(self, vocab_size, embed_size, seq_len, labels, weight, **kwargs):\n",
    "        super(textCNN, self).__init__(**kwargs)\n",
    "        self.labels = labels\n",
    "        self.embedding = nn.Embedding.from_pretrained(weight)\n",
    "        self.embedding.weight.requires_grad = False\n",
    "        self.conv1 = nn.Conv2d(1, 1, (3, embed_size))\n",
    "        self.conv2 = nn.Conv2d(1, 1, (4, embed_size))\n",
    "        self.conv3 = nn.Conv2d(1, 1, (5, embed_size))\n",
    "        self.pool1 = nn.MaxPool2d((seq_len - 3 + 1, 1))\n",
    "        self.pool2 = nn.MaxPool2d((seq_len - 4 + 1, 1))\n",
    "        self.pool3 = nn.MaxPool2d((seq_len - 5 + 1, 1))\n",
    "        self.linear = nn.Linear(3, labels)\n",
    "\n",
    "    def forward(self, inputs):\n",
    "        inputs = self.embedding(inputs).view(inputs.shape[0], 1, inputs.shape[1], -1)\n",
    "        x1 = F.relu(self.conv1(inputs))\n",
    "        x2 = F.relu(self.conv2(inputs))\n",
    "        x3 = F.relu(self.conv3(inputs))\n",
    "\n",
    "        x1 = self.pool1(x1)\n",
    "        x2 = self.pool2(x2)\n",
    "        x3 = self.pool3(x3)\n",
    "\n",
    "        x = torch.cat((x1, x2, x3), -1)\n",
    "        x = x.view(inputs.shape[0], 1, -1)\n",
    "\n",
    "        x = self.linear(x)\n",
    "        x = x.view(-1, self.labels)\n",
    "\n",
    "        return(x)"
   ]
  },
  {
   "cell_type": "code",
   "execution_count": 9,
   "metadata": {
    "collapsed": false
   },
   "outputs": [],
   "source": [
    "\n",
    "embed_size = 100\n",
    "weight = torch.zeros(vocab_size+1, embed_size)\n",
    "\n",
    "for i in range(len(wvmodel.index2word)):\n",
    "    try:\n",
    "        index = word_to_idx[wvmodel.index2word[i]]\n",
    "    except:\n",
    "        continue\n",
    "    weight[index, :] = torch.from_numpy(wvmodel.get_vector(\n",
    "        idx_to_word[word_to_idx[wvmodel.index2word[i]]]))\n",
    "    "
   ]
  },
  {
   "cell_type": "code",
   "execution_count": 10,
   "metadata": {
    "collapsed": false
   },
   "outputs": [
    {
     "data": {
      "text/plain": [
       "array([-0.17791 ,  0.62675 ,  0.4787  , -0.55295 , -0.84935 , -0.070802,\n",
       "       -0.34724 ,  0.4628  ,  0.12611 , -0.24875 ,  0.46881 ,  0.083636,\n",
       "        0.56065 , -0.21931 ,  0.015561, -0.55806 , -0.20738 ,  0.9123  ,\n",
       "       -1.2034  ,  0.30115 ,  0.46676 ,  0.483   , -0.10204 , -0.56799 ,\n",
       "       -0.027126,  0.40567 , -0.14058 , -0.55485 ,  0.094588, -0.62213 ,\n",
       "       -0.30343 ,  0.60639 ,  0.049799,  0.22204 ,  0.48549 ,  0.17629 ,\n",
       "       -0.090535,  0.53705 ,  0.2755  , -0.78827 , -0.70953 , -0.16678 ,\n",
       "        0.11206 , -0.48491 , -0.66644 ,  0.083952,  0.32885 , -0.45851 ,\n",
       "       -0.37208 , -1.5315  ,  0.12994 , -0.2409  , -0.17219 ,  1.374   ,\n",
       "       -0.22313 , -2.615   ,  0.35201 ,  0.33597 ,  1.6117  ,  0.92947 ,\n",
       "       -0.37535 ,  0.82034 , -1.0677  , -0.45329 ,  1.2332  ,  0.23749 ,\n",
       "        0.63523 ,  0.82859 , -0.1744  , -0.5853  ,  0.56339 , -0.73094 ,\n",
       "        0.30815 , -1.0888  ,  0.46139 ,  0.045386, -0.17827 , -0.054054,\n",
       "       -0.8831  ,  0.033935,  0.63083 , -0.19741 , -0.99051 ,  0.20022 ,\n",
       "       -1.9266  , -0.25884 ,  0.10367 , -0.34129 , -0.93507 , -0.54666 ,\n",
       "       -0.40171 , -0.37783 , -0.065771, -0.13836 , -0.91872 , -0.055635,\n",
       "       -0.080557, -0.19526 ,  0.20078 ,  1.0953  ], dtype=float32)"
      ]
     },
     "execution_count": 10,
     "metadata": {},
     "output_type": "execute_result"
    }
   ],
   "source": [
    "wvmodel.get_vector('we')"
   ]
  },
  {
   "cell_type": "code",
   "execution_count": 20,
   "metadata": {
    "collapsed": true
   },
   "outputs": [],
   "source": [
    "num_epochs = 5\n",
    "embed_size = 100\n",
    "num_hiddens = 100\n",
    "num_layers = 2\n",
    "bidirectional = True\n",
    "batch_size = 64\n",
    "labels = 2\n",
    "lr = 0.8\n",
    "device = torch.device('cuda:0')\n",
    "use_gpu = True\n",
    "\n",
    "net = textCNN(vocab_size=(vocab_size+1), embed_size=embed_size,\n",
    "              seq_len=500, labels=labels, weight=weight)\n",
    "\n",
    "net.to(device)\n",
    "loss_function = nn.CrossEntropyLoss()\n",
    "optimizer = optim.SGD(net.parameters(), lr=lr)\n"
   ]
  },
  {
   "cell_type": "code",
   "execution_count": 12,
   "metadata": {
    "collapsed": true
   },
   "outputs": [],
   "source": [
    "train_set = torch.utils.data.TensorDataset(train_features, train_labels)\n",
    "test_set = torch.utils.data.TensorDataset(test_features, test_labels)\n",
    "\n",
    "train_iter = torch.utils.data.DataLoader(train_set, batch_size=batch_size,\n",
    "                                         shuffle=True)\n",
    "test_iter = torch.utils.data.DataLoader(test_set, batch_size=batch_size,\n",
    "                                        shuffle=False)\n"
   ]
  },
  {
   "cell_type": "code",
   "execution_count": 21,
   "metadata": {
    "collapsed": false
   },
   "outputs": [
    {
     "name": "stdout",
     "output_type": "stream",
     "text": [
      "epoch: 0, train loss: 0.6574, train acc: 0.62, test loss: 0.5692, test acc: 0.72, time: 6.82\n",
      "epoch: 1, train loss: 0.6409, train acc: 0.63, test loss: 0.6475, test acc: 0.63, time: 6.43\n",
      "epoch: 2, train loss: 0.5953, train acc: 0.69, test loss: 0.5950, test acc: 0.68, time: 5.25\n",
      "epoch: 3, train loss: 0.6001, train acc: 0.69, test loss: 0.8209, test acc: 0.51, time: 5.24\n",
      "epoch: 4, train loss: 0.5833, train acc: 0.70, test loss: 0.5518, test acc: 0.72, time: 5.23\n"
     ]
    }
   ],
   "source": [
    "for epoch in range(num_epochs):\n",
    "    start = time.time()\n",
    "    train_loss, test_losses = 0, 0\n",
    "    train_acc, test_acc = 0, 0\n",
    "    n, m = 0, 0\n",
    "    for feature, label in train_iter:\n",
    "        n += 1\n",
    "        net.zero_grad()\n",
    "        feature = Variable(feature.cuda())\n",
    "        label = Variable(label.cuda())\n",
    "        score = net(feature)\n",
    "        loss = loss_function(score, label)\n",
    "        loss.backward()\n",
    "        optimizer.step()\n",
    "        train_acc += accuracy_score(torch.argmax(score.cpu().data,\n",
    "                                                 dim=1), label.cpu())\n",
    "        train_loss += loss\n",
    "    with torch.no_grad():\n",
    "        for test_feature, test_label in test_iter:\n",
    "            m += 1\n",
    "            test_feature = test_feature.cuda()\n",
    "            test_label = test_label.cuda()\n",
    "            test_score = net(test_feature)\n",
    "            test_loss = loss_function(test_score, test_label)\n",
    "            test_acc += accuracy_score(torch.argmax(test_score.cpu().data,\n",
    "                                                    dim=1), test_label.cpu())\n",
    "            test_losses += test_loss\n",
    "    end = time.time()\n",
    "    runtime = end - start\n",
    "    print('epoch: %d, train loss: %.4f, train acc: %.2f, test loss: %.4f, test acc: %.2f, time: %.2f' %\n",
    "          (epoch, train_loss.data / n, train_acc / n, test_losses.data / m, test_acc / m, runtime))\n"
   ]
  },
  {
   "cell_type": "code",
   "execution_count": null,
   "metadata": {
    "collapsed": true
   },
   "outputs": [],
   "source": [
    "# reference:https://samaelchen.github.io/pytorch_lstm_sentiment/"
   ]
  }
 ],
 "metadata": {
  "anaconda-cloud": {},
  "kernelspec": {
   "display_name": "Python [conda root]",
   "language": "python",
   "name": "conda-root-py"
  },
  "language_info": {
   "codemirror_mode": {
    "name": "ipython",
    "version": 3
   },
   "file_extension": ".py",
   "mimetype": "text/x-python",
   "name": "python",
   "nbconvert_exporter": "python",
   "pygments_lexer": "ipython3",
   "version": "3.5.2"
  }
 },
 "nbformat": 4,
 "nbformat_minor": 1
}
